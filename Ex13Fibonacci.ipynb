{
 "cells": [
  {
   "cell_type": "markdown",
   "metadata": {},
   "source": [
    "<font size = 2 color = red>QUESTION </font>\n",
    "<br><br>\n",
    "<font size = 2> \n",
    "\n",
    "Write a program that asks the user how many Fibonacci numbers to generate and then generate them. Take this opportunity to think about how you can use functions. Make sure to ask the user to enter the number of numbers in the sequence to generate.\n",
    "\n",
    "</font>\n",
    "<br><br>\n",
    "<font size = 2 color = green>Brief Description of code</font>\n",
    "<br><br>\n",
    "In the code below we use function to make list of Fibonacci numbers which will be called later to give the list of first 'n' number of Fibonacci numbers according to the number entered by the user. I have not done error handling for this code so user strictly need to input positive integers to get the correct result. \n",
    "\n",
    "One can also use a formula that generates Fibonacci numbers and code that formula as a function. It will make code bit shorter. Check the link below for formula. Here, I have manually coded the sequence using for loop. First two numbers have been separated as they both are same number 1. First two numbers both being one makes it difficult to include in for loop. I separated them from the loop so that the flow for the rest of the numbers will be easy. However, one could try it in different way. \n",
    "\n",
    "\n",
    "\n",
    "http://www.maths.surrey.ac.uk/hosted-sites/R.Knott/Fibonacci/fibFormula.html"
   ]
  },
  {
   "cell_type": "code",
   "execution_count": null,
   "metadata": {},
   "outputs": [],
   "source": []
  },
  {
   "cell_type": "code",
   "execution_count": 5,
   "metadata": {},
   "outputs": [
    {
     "name": "stdout",
     "output_type": "stream",
     "text": [
      "How many Fibonacci numbers you want to see? Please enter only positive integers.\n",
      "\n",
      "8\n",
      "\n",
      "\n",
      "Your list of first 8 Fibonacci numbers are: \n",
      "\n",
      "\n"
     ]
    },
    {
     "data": {
      "text/plain": [
       "[1, 1, 2, 3, 5, 8, 13, 21]"
      ]
     },
     "execution_count": 5,
     "metadata": {},
     "output_type": "execute_result"
    }
   ],
   "source": [
    "def Fibonacci(number):\n",
    "\n",
    "    fibonacci_list = [1,1]   # This list will be used by the for loop to generate other Fibonacci numbers.\n",
    "    \n",
    "    if number == 0:\n",
    "        return []\n",
    "    \n",
    "    elif number == 1:\n",
    "        return [1]\n",
    "    \n",
    "    # This  loop will use the concept of Fibonacci number. Above 'fibonacci_list' is used and the elements\n",
    "    # are summed up recursively to generate sequence of Fibonacci numbers.\n",
    "    \n",
    "    else:\n",
    "        for k in range(0, number - 2):\n",
    "            new_item = fibonacci_list[k] + fibonacci_list[k+1]\n",
    "            fibonacci_list.append(new_item)\n",
    "    \n",
    "        return fibonacci_list\n",
    "    \n",
    "\n",
    "test_number = int(input('How many Fibonacci numbers you want to see? Please enter only positive integers.\\n\\n'))\n",
    "print('\\n')\n",
    "\n",
    "print(f'Your list of first {test_number} Fibonacci numbers are: \\n\\n')\n",
    "Fibonacci(test_number)"
   ]
  },
  {
   "cell_type": "code",
   "execution_count": null,
   "metadata": {},
   "outputs": [],
   "source": []
  }
 ],
 "metadata": {
  "kernelspec": {
   "display_name": "Python 3",
   "language": "python",
   "name": "python3"
  },
  "language_info": {
   "codemirror_mode": {
    "name": "ipython",
    "version": 3
   },
   "file_extension": ".py",
   "mimetype": "text/x-python",
   "name": "python",
   "nbconvert_exporter": "python",
   "pygments_lexer": "ipython3",
   "version": "3.7.0"
  }
 },
 "nbformat": 4,
 "nbformat_minor": 2
}
