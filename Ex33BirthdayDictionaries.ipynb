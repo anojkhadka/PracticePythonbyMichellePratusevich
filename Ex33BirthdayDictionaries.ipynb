{
 "cells": [
  {
   "cell_type": "markdown",
   "metadata": {},
   "source": [
    "<font size = 2 color = red>QUESTION </font>\n",
    "<br><br>\n",
    "<font size = 2> \n",
    "\n",
    "This exercise is Part 1 of 4 of the birthday data exercise series. The other exercises are: Part 2, Part 3, and Part 4.\n",
    "\n",
    "<br>\n",
    "\n",
    "For this exercise, we will keep track of when our friend’s birthdays are, and be able to find that information based on their name. Create a dictionary (in your file) of names and birthdays. When you run your program it should ask the user to enter a name, and return the birthday of that person back to them.\n",
    "<br><br>\n",
    "\n",
    "\\>>> Welcome to the birthday dictionary. We know the birthdays of:\n",
    "<br>\n",
    "Albert Einstein\n",
    "<br>\n",
    "Benjamin Franklin\n",
    "<br>\n",
    "Ada Lovelace\n",
    "\n",
    "<br>\n",
    "\n",
    "\\>>> Who's birthday do you want to look up?\n",
    "<br>\n",
    "Benjamin Franklin\n",
    "<br><br>\n",
    "\\>>> Benjamin Franklin's birthday is 01/17/1706.\n",
    "\n",
    "</font>\n",
    "<br><br>\n",
    "\n",
    "<font size = 2 color = green>Brief Description of code</font>\n",
    "<br><br>\n",
    "This codes uses a simple function and calling this function does the required job.\n",
    "\n"
   ]
  },
  {
   "cell_type": "code",
   "execution_count": 43,
   "metadata": {},
   "outputs": [],
   "source": []
  },
  {
   "cell_type": "code",
   "execution_count": 3,
   "metadata": {},
   "outputs": [],
   "source": [
    "def Birthday_inquiry():\n",
    "    \n",
    "    ''' This function does not take any input and as this function is called it will ask user to input name\n",
    "    from the list displayed. Entering the name exactly as shown in the list will print the birth date of that \n",
    "    person.'''\n",
    "    \n",
    "    birthday = {'Alex': '1-22-1990', 'Jason': '11-2-1995', 'Musa': '7-11-2001', 'Harimaya': '12-21-1085', \n",
    "                'Pema': '5-7-1994'}\n",
    "    \n",
    "    names = list(birthday.keys())     # Will store all the keys from birthday dictionary above into a list\n",
    "\n",
    "    print('We have birth dates of following people\\n')\n",
    "    \n",
    "    for m in range(0, len(names)):   # This loop prints the name of persons\n",
    "        print(names[m])\n",
    "    \n",
    "    \n",
    "    person_name = input('Please enter the name of one person exactly from the list to know his/her birth date.\\n')\n",
    "    print(f'\\n\\nBirth date of {person_name} is:', end = ' ')\n",
    "    print(birthday.get(person_name))    # Will print the birth date of the person entered by the user"
   ]
  },
  {
   "cell_type": "code",
   "execution_count": 6,
   "metadata": {},
   "outputs": [
    {
     "name": "stdout",
     "output_type": "stream",
     "text": [
      "We have birth dates of following people\n",
      "\n",
      "Alex\n",
      "Jason\n",
      "Musa\n",
      "Harimaya\n",
      "Pema\n",
      "Please enter the name of one person exactly from the list to know his/her birth date.\n",
      "Pema\n",
      "\n",
      "\n",
      "Birth date of Pema is: 5-7-1994\n"
     ]
    }
   ],
   "source": [
    "Birthday_inquiry()"
   ]
  },
  {
   "cell_type": "code",
   "execution_count": null,
   "metadata": {},
   "outputs": [],
   "source": []
  }
 ],
 "metadata": {
  "kernelspec": {
   "display_name": "Python 3",
   "language": "python",
   "name": "python3"
  },
  "language_info": {
   "codemirror_mode": {
    "name": "ipython",
    "version": 3
   },
   "file_extension": ".py",
   "mimetype": "text/x-python",
   "name": "python",
   "nbconvert_exporter": "python",
   "pygments_lexer": "ipython3",
   "version": "3.7.0"
  }
 },
 "nbformat": 4,
 "nbformat_minor": 2
}
