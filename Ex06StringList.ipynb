{
 "cells": [
  {
   "cell_type": "markdown",
   "metadata": {},
   "source": [
    "<font size = 2, color = red>\n",
    "    Question\n",
    " </font>\n",
    " \n",
    " <br><br>\n",
    " \n",
    "<font size = 2>\n",
    "    \n",
    "Ask the user for a string and print out whether this string is a palindrome or not. (A palindrome is a string that reads the same forwards and backwards.)\n",
    "\n",
    "</font>"
   ]
  },
  {
   "cell_type": "markdown",
   "metadata": {},
   "source": [
    "<font size = 2, color = green> Brief Description of code</font>\n",
    "\n",
    "Here I have tried to write two different program that will solve this problem  using  differet approach. Basic idea to deal with palindrome is that we test whether a given sequence of strings match exactly whether we read it forward or backward. Both this program are case sensitive and will work for sequence of characters without any space in between. It means this won't be able to test palindromic phrase and sentence as they have space between the words.\n"
   ]
  },
  {
   "cell_type": "code",
   "execution_count": null,
   "metadata": {},
   "outputs": [],
   "source": []
  },
  {
   "cell_type": "code",
   "execution_count": 46,
   "metadata": {},
   "outputs": [
    {
     "name": "stdout",
     "output_type": "stream",
     "text": [
      "Please enter any sequence of characters  nik34543kin\n",
      "\n",
      " It is a palindrome\n"
     ]
    }
   ],
   "source": [
    "'''\n",
    "This code is very simple. This code works by using simple functionality of list. The idea behind is that we\n",
    "\n",
    "first turn an input sequence of string characters into list. Thenafter, we reverse that list and match it with \n",
    "\n",
    "the input list to check whether the input sequence of characters is a palindrome or not. \n",
    "\n",
    "'''\n",
    "\n",
    "\n",
    "\n",
    "string = list(input('Please enter any sequence of characters  '))\n",
    "\n",
    "\n",
    "# Using -1 as step size with default start and step value will reverse the list\n",
    "\n",
    "if string[0:len(string)] == string[::-1]:  \n",
    "\n",
    "    print('\\n It is a palindrome')\n",
    "    \n",
    "else:\n",
    "    \n",
    "    print('\\n It is not a palindrome')\n",
    "    "
   ]
  },
  {
   "cell_type": "code",
   "execution_count": null,
   "metadata": {},
   "outputs": [],
   "source": []
  },
  {
   "cell_type": "code",
   "execution_count": 76,
   "metadata": {},
   "outputs": [
    {
     "name": "stdout",
     "output_type": "stream",
     "text": [
      "Please enter any sequence of characters riken#$%$#nekir\n",
      "It's a palindrome\n"
     ]
    }
   ],
   "source": [
    "'''\n",
    "\n",
    "This code is slightly longer and makes use of for loop to go through each element in the input sequence of\n",
    "\n",
    "characters to match it with the elements of the input sequence that has been reversed. If all the characters\n",
    "\n",
    "match, it is  a palindrome, else, it is not.\n",
    "\n",
    "'''\n",
    "string = input('Please enter any sequence of characters ')\n",
    "\n",
    "list_string = list(string)              # Converting string to list\n",
    "\n",
    "list_string.reverse()                   # This will reverse the elements in the list_string\n",
    "\n",
    "for k in range(0, len(string)):\n",
    "         \n",
    "    if list_string[k] != string[k]:\n",
    "\n",
    "        print('It is not a palindrome')\n",
    "        \n",
    "        break\n",
    "    \n",
    "    else:\n",
    "\n",
    "        if k == len(string) - 1:\n",
    "            print(\"It's a palindrome\")\n"
   ]
  },
  {
   "cell_type": "code",
   "execution_count": null,
   "metadata": {},
   "outputs": [],
   "source": []
  }
 ],
 "metadata": {
  "kernelspec": {
   "display_name": "Python 3",
   "language": "python",
   "name": "python3"
  },
  "language_info": {
   "codemirror_mode": {
    "name": "ipython",
    "version": 3
   },
   "file_extension": ".py",
   "mimetype": "text/x-python",
   "name": "python",
   "nbconvert_exporter": "python",
   "pygments_lexer": "ipython3",
   "version": "3.7.0"
  }
 },
 "nbformat": 4,
 "nbformat_minor": 2
}
