{
 "cells": [
  {
   "cell_type": "markdown",
   "metadata": {},
   "source": [
    "<font size = 2 color = red>QUESTION </font>\n",
    "<br><br>\n",
    "<font size = 2> \n",
    "\n",
    "This exercise is Part 2 of 4 of the Tic Tac Toe exercise series. As you may have guessed, we are trying to build up to a full tic-tac-toe board. However, this is significantly more than half an hour of coding, so we’re doing it in pieces.\n",
    "\n",
    "Today, we will simply focus on checking whether someone has WON a game of Tic Tac Toe, not worrying about how the moves were made.\n",
    "\n",
    "If a game of Tic Tac Toe is represented as a list of lists, like so:\n",
    "\n",
    "<br>\n",
    "\n",
    "game = <br> [[1, 2, 0], <br>[2, 1, 0],<br>[2, 1, 1]]\n",
    "    \n",
    "<br>\n",
    "where a 0 means an empty square, a 1 means that player 1 put their token in that space, and a 2 means that player 2 put their token in that space.\n",
    "\n",
    "Your task this week: given a 3 by 3 list of lists that represents a Tic Tac Toe game board, tell me whether anyone has won, and tell me which player won, if any. A Tic Tac Toe win is 3 in a row - either in a row, a column, or a diagonal. Don’t worry about the case where TWO people have won - assume that in every board there will only be one winner.\n",
    "\n",
    "</font>\n",
    "<br><br>\n",
    "\n",
    "<font size = 2 color = green>Brief Description of code</font>\n",
    "<br><br>\n",
    "This code will tell which of the player won the game and if there is no winner it will tell that the game is undecided. To achieve this all the possible arrangements for which player one can be called victorious are given as conditional statements and same is done for player two. The final game arrangement is input as an argument to the function and mapped with all the possible combinations to give the decision."
   ]
  },
  {
   "cell_type": "code",
   "execution_count": 11,
   "metadata": {},
   "outputs": [],
   "source": []
  },
  {
   "cell_type": "code",
   "execution_count": 1,
   "metadata": {},
   "outputs": [],
   "source": [
    "sample_case = [[1,2,2],[1,1,0],[2,1,1]]"
   ]
  },
  {
   "cell_type": "code",
   "execution_count": 4,
   "metadata": {},
   "outputs": [],
   "source": [
    "def winner_declare(test_list):\n",
    "    ''' This function take a list of list as an argument and returns the printed message as an output telling \n",
    "        who won the game.'''\n",
    "    \n",
    "    \n",
    "    # This section will map all the possible combination for which player one will win the game.\n",
    "    \n",
    "    if test_list[0] == [1,1,1]:\n",
    "        print('Player 1 wins')\n",
    "    elif test_list[1] == [1,1,1]:\n",
    "        print('Player 1 wins')\n",
    "    elif test_list[0] == [1,1,1]:\n",
    "        print('Player 1 wins')\n",
    "    elif [test_list[0][0], test_list[1][0], test_list[2][0]] == [1,1,1]:\n",
    "        print('Player 1 wins')\n",
    "    elif [test_list[0][1], test_list[1][1], test_list[2][1]] == [1,1,1]:\n",
    "        print('Player 1 wins')\n",
    "    elif [test_list[0][2], test_list[1][2], test_list[2][2]] == [1,1,1]:\n",
    "        print('Player 1 wins')\n",
    "    elif [test_list[0][0], test_list[1][1], test_list[2][2]] == [1,1,1]:\n",
    "        print('Player 1 wins')\n",
    "    elif [test_list[0][2], test_list[1][1], test_list[2][0]] == [1,1,1]:\n",
    "        print('Player 1 wins')\n",
    "\n",
    "        \n",
    "    # This section will map all the possible combination for which player two will win the game.\n",
    "\n",
    "    elif test_list[0] == [2,2,2]:\n",
    "        print('Player 2 wins')\n",
    "    elif test_list[1] == [2,2,2]:\n",
    "        print('Player 2 wins')\n",
    "    elif test_list[0] == [2,2,2]:\n",
    "        print('Player 2 wins')\n",
    "    elif [test_list[0][0], test_list[1][0], test_list[2][0]] == [2,2,2]:\n",
    "        print('Player 2 wins')\n",
    "    elif [test_list[0][1], test_list[1][1], test_list[2][1]] == [2,2,2]:\n",
    "        print('Player 2 wins')\n",
    "    elif [test_list[0][2], test_list[1][2], test_list[2][2]] == [2,2,2]:\n",
    "        print('Player 2 wins')\n",
    "    elif [test_list[0][0], test_list[1][1], test_list[2][2]] == [2,2,2]:\n",
    "        print('Player 2 wins')\n",
    "    elif [test_list[0][2], test_list[1][1], test_list[2][0]] == [2,2,2]:\n",
    "        print('Player 2 wins')\n",
    "    else:\n",
    "        print('Undecided')  # If none wins the game 'undecided' message will be displayed.\n"
   ]
  },
  {
   "cell_type": "code",
   "execution_count": 5,
   "metadata": {},
   "outputs": [
    {
     "name": "stdout",
     "output_type": "stream",
     "text": [
      "Player 1 wins\n"
     ]
    }
   ],
   "source": [
    "winner_declare(sample_case)"
   ]
  },
  {
   "cell_type": "code",
   "execution_count": 27,
   "metadata": {},
   "outputs": [],
   "source": []
  },
  {
   "cell_type": "code",
   "execution_count": null,
   "metadata": {},
   "outputs": [],
   "source": []
  }
 ],
 "metadata": {
  "kernelspec": {
   "display_name": "Python 3",
   "language": "python",
   "name": "python3"
  },
  "language_info": {
   "codemirror_mode": {
    "name": "ipython",
    "version": 3
   },
   "file_extension": ".py",
   "mimetype": "text/x-python",
   "name": "python",
   "nbconvert_exporter": "python",
   "pygments_lexer": "ipython3",
   "version": "3.7.0"
  }
 },
 "nbformat": 4,
 "nbformat_minor": 2
}
