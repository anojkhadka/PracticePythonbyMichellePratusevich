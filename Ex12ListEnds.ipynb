{
 "cells": [
  {
   "cell_type": "markdown",
   "metadata": {},
   "source": [
    "<font size = 2 color = red>QUESTION 12</font>\n",
    "<font size = 2>\n",
    "<br><br>\n",
    "Write a program that takes a list of numbers and makes a new list of only the first and last elements of the given list. For practice, write this code inside a function.\n",
    "</font>"
   ]
  },
  {
   "cell_type": "markdown",
   "metadata": {},
   "source": [
    "<font size =2 color = green>Brief Description of the Code</font>\n",
    "<br><br>\n",
    "\n",
    "In this code I have written a function that will weed out the first and last element of the given list and create a spearate list containing them. It is not much complicated, I guess."
   ]
  },
  {
   "cell_type": "code",
   "execution_count": 28,
   "metadata": {},
   "outputs": [
    {
     "name": "stdout",
     "output_type": "stream",
     "text": [
      "This is our test list.\n",
      "\n",
      " [2, 49, 37, 4, 48, 14, 8, 35, 25, 3, 27, 29, 44, 20, 19]\n",
      "\n",
      "\n",
      "\n",
      "List with first and last elements from the test list is \n",
      "\n",
      "  [2, 19]\n"
     ]
    }
   ],
   "source": [
    "import random\n",
    "                   \n",
    "def list_manipulation(example_list):\n",
    "    \n",
    "    new_list = []                        # This empty list will be used later to store the firs and last element\n",
    "    \n",
    "    first_element = example_list[0]      # This and line below indexes the first and last element of the \n",
    "                                         # given list.\n",
    "    \n",
    "    last_element = example_list[len(example_list)-1]   \n",
    "    \n",
    "    \n",
    "    new_list.append(first_element)       # This and line below appends first and last element into empty list\n",
    "    new_list.append(last_element)        # created above.\n",
    "    return new_list\n",
    "\n",
    "\n",
    "\n",
    "# Generating a list of 15 random numbers between 0 and 50.\n",
    "\n",
    "test_list = random.sample(range(0,50), 15)  \n",
    "\n",
    "print('This is our test list.\\n\\n', test_list)\n",
    "print('\\n\\n')\n",
    "print('List with first and last elements from the test list is \\n\\n ', list_manipulation(test_list))\n",
    "\n",
    "# In the print statement above function call is made inside for the \"list_manipulation\" function above"
   ]
  },
  {
   "cell_type": "code",
   "execution_count": null,
   "metadata": {},
   "outputs": [],
   "source": []
  },
  {
   "cell_type": "code",
   "execution_count": null,
   "metadata": {},
   "outputs": [],
   "source": []
  }
 ],
 "metadata": {
  "kernelspec": {
   "display_name": "Python 3",
   "language": "python",
   "name": "python3"
  },
  "language_info": {
   "codemirror_mode": {
    "name": "ipython",
    "version": 3
   },
   "file_extension": ".py",
   "mimetype": "text/x-python",
   "name": "python",
   "nbconvert_exporter": "python",
   "pygments_lexer": "ipython3",
   "version": "3.7.0"
  }
 },
 "nbformat": 4,
 "nbformat_minor": 2
}
