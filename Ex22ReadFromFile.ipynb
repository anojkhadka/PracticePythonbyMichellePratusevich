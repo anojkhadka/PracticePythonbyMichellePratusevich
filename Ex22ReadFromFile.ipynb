{
 "cells": [
  {
   "cell_type": "markdown",
   "metadata": {},
   "source": [
    "<font size = 2 color = red>QUESTION </font>\n",
    "<br><br>\n",
    "<font size = 2> \n",
    "Given a .txt file that has a list of a bunch of names, count how many of each name there are in the file, and print out the results to the screen. I have a .txt file for you, if you want to use it!\n",
    "\n",
    "Link of the text file\n",
    "http://www.practicepython.org/assets/nameslist.txt\n",
    "\n",
    "<br><br>\n",
    "Extra:\n",
    "\n",
    "Instead of using the .txt file from above (or instead of, if you want the challenge), take this .txt file, and count how many of each “category” of each image there are. This text file is actually a list of files corresponding to the SUN database scene recognition database, and lists the file directory hierarchy for the images. Once you take a look at the first line or two of the file, it will be clear which part represents the scene category.\n",
    "\n",
    "Link to the database text file: http://www.practicepython.org/assets/Training_01.txt\n"
   ]
  },
  {
   "cell_type": "markdown",
   "metadata": {},
   "source": [
    "### Part I: First part of the question\n",
    "\n",
    "This part of the question requirese to count all the different names in the file. simple observations show that this file only contain three different types of names. So, it is not that difficult as compared to the second part of the question which has a file from a database with huge amount of data."
   ]
  },
  {
   "cell_type": "code",
   "execution_count": 19,
   "metadata": {},
   "outputs": [
    {
     "name": "stdout",
     "output_type": "stream",
     "text": [
      "There are 100 items in the text file \n",
      "\n",
      "\"Darth\" appears 31 times in the text file\n",
      "\n",
      "\"Lea\" appears 54 times in the text file\n",
      "\n",
      "\"Luke\" appears 15 times in the text file\n",
      "\n"
     ]
    }
   ],
   "source": [
    "n = 0          # This is used set the counter to count the total number of items in the file.\n",
    "\n",
    "# x,y and z are counter set to count the number of three different types of items.\n",
    "\n",
    "x = 0          \n",
    "y = 0\n",
    "z = 0\n",
    "\n",
    "\n",
    "# Textfile containing the data has been downloaded and saved in the same folder as this code file is in.\n",
    "\n",
    "\n",
    "with open('nameslist.txt', 'r+') as read_file:\n",
    "\n",
    "    while True:                              # Initiating an open-ended loop to go through each line in file. \n",
    "        \n",
    "        name = read_file.readline()\n",
    "        name_call = name.strip('\\n')         # String parsing to pick only the names\n",
    "        \n",
    "        if name_call == 'Darth' :\n",
    "            x +=1\n",
    "        elif name_call == 'Lea':\n",
    "            y +=1\n",
    "        elif name_call == 'Luke' :\n",
    "            z +=1\n",
    "        \n",
    "        if name_call == '':\n",
    "            break\n",
    "        n +=1\n",
    "    \n",
    "    \n",
    "            \n",
    "    print(f'There are {n} items in the text file \\n')\n",
    "    print(f'\"Darth\" appears {x} times in the text file\\n')\n",
    "    print(f'\"Lea\" appears {y} times in the text file\\n')\n",
    "    print(f'\"Luke\" appears {z} times in the text file\\n')\n"
   ]
  },
  {
   "cell_type": "code",
   "execution_count": null,
   "metadata": {},
   "outputs": [],
   "source": []
  },
  {
   "cell_type": "code",
   "execution_count": null,
   "metadata": {},
   "outputs": [],
   "source": []
  },
  {
   "cell_type": "markdown",
   "metadata": {},
   "source": [
    "### Part 2\n",
    "\n",
    "This second part of the question is bit challenging as the file contains huge number of data in it. Simple observation of the data file shows that third word in each line of the data represents a category. And, there are large number of such categories and each varies in number. We are required to find out how many times each of such category appears in the file. To do this, I first separate the categroy item in the line(using string parsing) and loop through each line and match it again while also setting the counter as loop goes on. When the item/category is different note the number of counts for that item and record that category. I have done this by writing to a separate csv file as the item does not match. In this way as I loop through whole of the file, number of different category and its name will be recorded. Easier said than done. Below is the code.\n",
    "\n",
    "PS: This task could have been achieved much easily using pandas dataframe. But that is a different story again."
   ]
  },
  {
   "cell_type": "markdown",
   "metadata": {},
   "source": [
    "#### Part 2 : Main Code"
   ]
  },
  {
   "cell_type": "code",
   "execution_count": 1,
   "metadata": {},
   "outputs": [
    {
     "name": "stdout",
     "output_type": "stream",
     "text": [
      "There are 19850 image files in the database \n",
      "\n",
      "There are 362 category of items in the database.\n"
     ]
    }
   ],
   "source": [
    "n = 0                                   # Setting counter to count the total number of items in the file\n",
    "m = 0                                   # This counter is set to count the number of items in each category.\n",
    "item_counter = 0                        # This counter is set to count the number of category in whole file.\n",
    "\n",
    "hold_list = ['abbey']                   # Initially giving an item to match\n",
    "\n",
    "\n",
    "# Opening files. One is the file from the database and another is to record our result\n",
    "\n",
    "\n",
    "with open('Training_01.txt', 'r+') as read_file, open('category_list.csv', 'w') as write_file:\n",
    "    \n",
    "    while True:\n",
    "       \n",
    "        name = read_file.readline()\n",
    "        \n",
    "        \n",
    "        # This 'if conditional' has same kind of lines inside as in the 'else' statement below. This is because\n",
    "        # once the file is read completely last category of data needs to be recorded and also loop needs to \n",
    "        # broken as there are no more data to read to prevent the loop from running infinitely.\n",
    "        \n",
    "        if name == '':\n",
    "            write_file.write('\\n' + hold_list[0] + '\\t' + str(m))\n",
    "            item_counter += 1\n",
    "            break\n",
    "            \n",
    "        scene_name = name.split('/')    # String parsing\n",
    "        name1 = scene_name[2]\n",
    "        \n",
    "        # This part of the 'if conditional' statment counts the similar item in each category\n",
    "        \n",
    "        if name1 == hold_list[0]:\n",
    "            m +=1  \n",
    "            \n",
    "        # This part does the job of recording the name of category and number of times it appears\n",
    "        \n",
    "        else:\n",
    "            write_file.truncate()\n",
    "            write_file.write('\\n' + hold_list[0] + '\\t' + str(m))\n",
    "            m = 1\n",
    "            item_counter += 1\n",
    "\n",
    "        \n",
    "        # As said before, with every next loop we match the category name and once different category appears\n",
    "        # we want item in the 'hold_list', we initiated in the begining to change, so that we can again begin \n",
    "        # counting of next category.\n",
    "        \n",
    "        hold_list.pop()\n",
    "        hold_list.append(name1)\n",
    "        n +=1\n",
    "        \n",
    "    # Finally writing how many different types of category were present in the file. In csv file this can be \n",
    "    # easily seen in the file itself as well.   \n",
    "            \n",
    "    write_file.write(f'\\n\\n There are {item_counter} types of scene category in the file')\n",
    "        \n",
    "    print(f'There are {n} image files in the database \\n')\n",
    "    print(f'There are {item_counter} category of items in the database.')"
   ]
  },
  {
   "cell_type": "markdown",
   "metadata": {},
   "source": [
    "#### Part 2: Testing Result\n",
    "\n",
    "\n",
    "This code below is to test the result of the main code above. In order to test the result, we check the file written by the main code above and change the item of the list: hold_list. For instance here I have checked if the file correctly counted 'waterfall' category. This automatically checks if the category exists in our file or not. "
   ]
  },
  {
   "cell_type": "code",
   "execution_count": 9,
   "metadata": {},
   "outputs": [
    {
     "name": "stdout",
     "output_type": "stream",
     "text": [
      "There are 50 items in the text file \n",
      "\n"
     ]
    }
   ],
   "source": [
    "n = 0\n",
    "\n",
    "hold_list = ['physics_laboratory']\n",
    "\n",
    "with open('Training_01.txt', 'r+') as read_file:\n",
    "    \n",
    "    while True:\n",
    "       \n",
    "        name = read_file.readline()\n",
    "        if name == '':\n",
    "            break\n",
    "        scene_name = name.split('/')\n",
    "        name1 = scene_name[2]\n",
    "        \n",
    "        if scene_name[2] == hold_list[0]:\n",
    "            n +=1   \n",
    "        \n",
    "        \n",
    "    print(f'There are {n} items in the text file \\n')\n"
   ]
  },
  {
   "cell_type": "code",
   "execution_count": null,
   "metadata": {},
   "outputs": [],
   "source": []
  }
 ],
 "metadata": {
  "kernelspec": {
   "display_name": "Python 3",
   "language": "python",
   "name": "python3"
  },
  "language_info": {
   "codemirror_mode": {
    "name": "ipython",
    "version": 3
   },
   "file_extension": ".py",
   "mimetype": "text/x-python",
   "name": "python",
   "nbconvert_exporter": "python",
   "pygments_lexer": "ipython3",
   "version": "3.7.0"
  }
 },
 "nbformat": 4,
 "nbformat_minor": 2
}
