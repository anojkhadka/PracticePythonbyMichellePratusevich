{
 "cells": [
  {
   "cell_type": "markdown",
   "metadata": {},
   "source": [
    "<font size = 2 color = red>QUESTION </font>\n",
    "<br><br>\n",
    "<font size = 2> \n",
    "Write a program (using functions!) that asks the user for a long string containing multiple words. Print back to the user the same string, except with the words in backwards order. For example, say I type the string:\n",
    "<br><br>\n",
    "  <TT>&emsp; My name is Michele</TT>\n",
    "<br><br>\n",
    "Then I would see the string:\n",
    "<br><br>\n",
    " <TT> &emsp; Michele is name My</TT>\n",
    "<br><br>\n",
    "shown back to me.\n",
    "\n",
    "</font>\n",
    "<br><br>\n",
    "\n",
    "<font size = 2 color = green>Brief Description of code</font>\n",
    "<br><br>\n",
    "\n",
    "The objective of this code is to write a function that will take any sentence as an input and will retrun a reversed sentence as an output. rsplit() method has been employed to break the sentence into its constituent words and create a list of those words. This list will then be reversed and written into a sentence out of this reversed list. Below is the documentation link for rsplit() method.\n",
    "\n",
    "https://python-reference.readthedocs.io/en/latest/docs/str/rsplit.html"
   ]
  },
  {
   "cell_type": "code",
   "execution_count": 20,
   "metadata": {},
   "outputs": [
    {
     "name": "stdout",
     "output_type": "stream",
     "text": [
      "Please enter a sentence. \n",
      "\n",
      "When was the last time you did something for the first time?\n",
      "\n",
      " Your reversed sentence is: \n",
      "\n",
      "time? first the for something did you time last the was When "
     ]
    }
   ],
   "source": [
    "\n",
    "def Reverse_sentence(sentence):\n",
    "    \n",
    "    '''\n",
    "    This function will take any sentence as an input and will return the reversed sentence as an output.  \n",
    "    '''\n",
    "    \n",
    "    \n",
    "    split_words_list = sentence.rsplit() # rsplit() method splits the words in a sentence and creates a list \n",
    "                                         # of those words. Split, by default, occurse at white space points.\n",
    "    \n",
    "    reversed_list = split_words_list[::-1]  # Reversing the list created above\n",
    "    \n",
    "    print('\\n Your reversed sentence is: \\n')                                 \n",
    "    \n",
    "    for index in range(0, len(reversed_list)):\n",
    "        \n",
    "        print(reversed_list[index] , end =  ' ')  # \" end = '' \" argument in 'print' will cause for the words to\n",
    "                                                  # be printed in the same line so that we get a single sentence \n",
    "                                                  # instead of words being printed in different lines.\n",
    "\n",
    "                \n",
    "                \n",
    "input_text = input('Please enter a sentence. \\n\\n')\n",
    "\n",
    "\n",
    "#Invoking the function call\n",
    "\n",
    "Reverse_sentence(input_text)\n",
    "\n",
    "\n",
    "\n"
   ]
  },
  {
   "cell_type": "code",
   "execution_count": null,
   "metadata": {},
   "outputs": [],
   "source": []
  }
 ],
 "metadata": {
  "kernelspec": {
   "display_name": "Python 3",
   "language": "python",
   "name": "python3"
  },
  "language_info": {
   "codemirror_mode": {
    "name": "ipython",
    "version": 3
   },
   "file_extension": ".py",
   "mimetype": "text/x-python",
   "name": "python",
   "nbconvert_exporter": "python",
   "pygments_lexer": "ipython3",
   "version": "3.7.0"
  }
 },
 "nbformat": 4,
 "nbformat_minor": 2
}
