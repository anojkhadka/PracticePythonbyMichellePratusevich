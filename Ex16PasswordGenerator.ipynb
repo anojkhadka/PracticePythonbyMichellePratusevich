{
 "cells": [
  {
   "cell_type": "markdown",
   "metadata": {},
   "source": [
    "<font size = 2 color = red>QUESTION </font>\n",
    "<br><br>\n",
    "<font size = 2> \n",
    "Write a password generator in Python. Be creative with how you generate passwords - strong passwords have a mix of lowercase letters, uppercase letters, numbers, and symbols. The passwords should be random, generating a new password every time the user asks for a new password. Include your run-time code in a main method.\n",
    "    \n",
    "Ask the user how strong they want their password to be.\n",
    "</font>\n",
    "<br><br>\n",
    "\n",
    "<font size = 2 color = green>Brief Description of code</font>\n",
    "<br><br>\n",
    "\n",
    "In this code I have used 'random' module from python to generate a random password as asked in the question. In practice, there is a 'secrets' module in python that is especially used for cryptographyic purposes especially to generate password and other encryptions. A good password contains mix of uppercase letters, lower case letter, digits and symbols to make it harder to guess. So, I used 'string' module from python to pull out all these characters. However, I have made my own list of mostly used symbols instead of pulling symbols from 'string.punctuation' in 'string' module. This code will handle error for wrong entry of length of password and ask the user to retry the code if entry other than positive integer is being entered. "
   ]
  },
  {
   "cell_type": "code",
   "execution_count": 41,
   "metadata": {},
   "outputs": [
    {
     "name": "stdout",
     "output_type": "stream",
     "text": [
      "Please enter how many characters long you want your password to be. 15\n",
      "\n",
      "\n",
      " New password generated is: \n",
      "\n",
      "4&2oy%@64f80@$M"
     ]
    }
   ],
   "source": [
    "import random\n",
    "import string\n",
    "\n",
    "\n",
    "def password_generator():\n",
    "\n",
    "    '''This function will do the main job of generating random password. No input is required to be given as an\n",
    "       argument for this function. This function is called from the main function below and once it is called it\n",
    "       will ask user to enter a number that indicates the length of the password to be generated.\n",
    "    '''\n",
    "    \n",
    "    symbols = ['@', '$', '?', '%', '&']          # My self-made list of mostly used symbols\n",
    "    \n",
    "\n",
    "    try:\n",
    "        password_length = int(input('Please enter how many characters long you want your password to be. '))\n",
    "    \n",
    "        print('\\n\\n New password generated is: \\n')\n",
    "\n",
    "        for n in range(0, password_length):\n",
    "            \n",
    "            k = random.randint(0,3)  #This random call will be used to randomize the position of characters\n",
    "            \n",
    "            if k == 0:\n",
    "                \n",
    "                # lower-case letters from 'string' module will be printed randomly\n",
    "                \n",
    "                print(string.ascii_lowercase[random.randint(0,25)], end = '')  \n",
    "                \n",
    "            if k == 1:\n",
    "                \n",
    "                # upper-case letters from 'string' module will be printed randomly\n",
    "                \n",
    "                print(string.ascii_uppercase[random.randint(0,25)], end = '')\n",
    "                \n",
    "            if k == 2:\n",
    "                \n",
    "                # digits(0-9) from 'string' module will be printed randomly\n",
    "                \n",
    "                print(string.digits[random.randint(0,9)], end = '')\n",
    "                \n",
    "            if k == 3:\n",
    "                \n",
    "                # symbols from 'symbols' list above will be printed randomly\n",
    "\n",
    "                print(symbols[random.randint(0,4)], end = '') \n",
    "    \n",
    "    except ValueError:\n",
    "        \n",
    "        print('\\n\\n Oops Invalid entry! Please enter a positive integer and try again. ')\n",
    "        \n",
    "        \n",
    "def main():\n",
    "    password_generator()\n",
    "    \n",
    "\n",
    "if __name__ == '__main__':\n",
    "    main()\n",
    "    "
   ]
  },
  {
   "cell_type": "code",
   "execution_count": null,
   "metadata": {},
   "outputs": [],
   "source": []
  }
 ],
 "metadata": {
  "kernelspec": {
   "display_name": "Python 3",
   "language": "python",
   "name": "python3"
  },
  "language_info": {
   "codemirror_mode": {
    "name": "ipython",
    "version": 3
   },
   "file_extension": ".py",
   "mimetype": "text/x-python",
   "name": "python",
   "nbconvert_exporter": "python",
   "pygments_lexer": "ipython3",
   "version": "3.7.0"
  }
 },
 "nbformat": 4,
 "nbformat_minor": 2
}
