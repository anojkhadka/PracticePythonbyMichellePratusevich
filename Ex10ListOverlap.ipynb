{
 "cells": [
  {
   "cell_type": "markdown",
   "metadata": {},
   "source": [
    "<font size = 3, color = red>Question</font>\n",
    "\n",
    "<font size = 3>\n",
    "<br><br>\n",
    "\n",
    "Take two lists, say for example these two:\n",
    "\n",
    "\tA = [1, 1, 2, 3, 5, 8, 13, 2.31, 34, 55, 89,22, 09, 'jason', -9, 12]\n",
    "    \n",
    "\tB = [1, 3, 4, 5, 6, 7, 2.31, 9, 10, 12, 13, 'asmita', 'jason', -9, 89, 'list']\n",
    "    \n",
    "and write a program that returns a list that contains only the elements that are common between the lists (without duplicates). Make sure your program works on two lists of different sizes. Write this using at least one list comprehension.\n",
    "</font>"
   ]
  },
  {
   "cell_type": "markdown",
   "metadata": {},
   "source": [
    "<font size = 2, color = green>Brief Description of code</font>\n",
    "<br><br>\n",
    "<font size = 2>\n",
    "Below I have presented a solution with bonus example. We did list comprehension in exercise 7. This question is\n",
    "a combination of exercise 5 and exercise 7. Main solution code is single line. However, I have added few extra lines of code to visualize what elements are generated in example lists and what is returned by the soltuion so that one can observe manually if the result is true. \n",
    "</font>"
   ]
  },
  {
   "cell_type": "code",
   "execution_count": null,
   "metadata": {},
   "outputs": [],
   "source": []
  },
  {
   "cell_type": "code",
   "execution_count": null,
   "metadata": {},
   "outputs": [],
   "source": []
  },
  {
   "cell_type": "code",
   "execution_count": 38,
   "metadata": {},
   "outputs": [
    {
     "name": "stdout",
     "output_type": "stream",
     "text": [
      "First list : \n",
      "\n",
      " [48, 19, 25, 6, 36, 24, 9, 28, 11, 21, 26, 47, 4, 12, 31, 0, 23, 49, 7, 43]\n",
      "\n",
      "\n",
      " Second list : \n",
      "\n",
      " [14, 32, 35, 12, 18, 20, 48, 44, 15, 0, 41, 45, 36, 27, 6]\n",
      "\n",
      "\n",
      " List of common elements in above two lists without duplication of elements. \n",
      "\n",
      " [0, 36, 6, 12, 48]\n"
     ]
    }
   ],
   "source": [
    "import random       # Importing random module to generate sample of random numbers below.\n",
    "\n",
    "\n",
    "first_list   = random.sample(range(0,50), 20)    # Will generate sample of 20 random numbers lying between 0-50\n",
    "print('First list : \\n\\n', first_list)\n",
    "second_list  = random.sample(range(0,50), 15)    # Will generate sample of 15 random numbers lying between 0-50\n",
    "print('\\n\\n Second list : \\n\\n', second_list)\n",
    "\n",
    "\n",
    "# This is my one line code. I have used set() and list() method. set() method will avoid duplication of \n",
    "# elements. list() method is actually not mandatory. I used it just to convert set class elements to a list. \n",
    "\n",
    "\n",
    "common_list = list(set([first_list[k]  for k in range(0, len(first_list))  if first_list[k] in second_list]))\n",
    "\n",
    "\n",
    "\n",
    "print('\\n\\n List of common elements in above two lists without duplication of elements. \\n\\n',common_list)"
   ]
  },
  {
   "cell_type": "code",
   "execution_count": null,
   "metadata": {},
   "outputs": [],
   "source": []
  },
  {
   "cell_type": "markdown",
   "metadata": {},
   "source": [
    "<font size = 2, color = red>Bonus Example</font>\n",
    "\n",
    "Below is a bonus example of same code above just to show that it works for any type of elements inside the list."
   ]
  },
  {
   "cell_type": "code",
   "execution_count": 39,
   "metadata": {},
   "outputs": [
    {
     "name": "stdout",
     "output_type": "stream",
     "text": [
      "\n",
      "\n",
      " {1, 2, 3, 2.31, 5, 'jason', 9, 12, 13, -9, 89}\n"
     ]
    }
   ],
   "source": [
    "A = [1, 1, 2, 3, 3, 5, 8, 13, 2.31, 34, 55, 89,22, 9, 'jason', -9, 12]\n",
    "    \n",
    "B = ['asmita', 1, 2, 3, 4, 5, 6, 7, 2.31, 9, 10, 11, 12, 13, 'jason', -9, 89, 'list']\n",
    "\n",
    "\n",
    "C = set([A[k] for k in range(0, len(A)) if A[k] in B])\n",
    "print('\\n\\n', C)"
   ]
  },
  {
   "cell_type": "code",
   "execution_count": null,
   "metadata": {},
   "outputs": [],
   "source": []
  }
 ],
 "metadata": {
  "kernelspec": {
   "display_name": "Python 3",
   "language": "python",
   "name": "python3"
  },
  "language_info": {
   "codemirror_mode": {
    "name": "ipython",
    "version": 3
   },
   "file_extension": ".py",
   "mimetype": "text/x-python",
   "name": "python",
   "nbconvert_exporter": "python",
   "pygments_lexer": "ipython3",
   "version": "3.7.0"
  }
 },
 "nbformat": 4,
 "nbformat_minor": 2
}
