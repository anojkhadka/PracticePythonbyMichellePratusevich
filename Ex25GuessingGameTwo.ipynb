{
 "cells": [
  {
   "cell_type": "markdown",
   "metadata": {},
   "source": [
    "<font size = 2 color = red>QUESTION </font>\n",
    "<br><br>\n",
    "<font size = 2> \n",
    "\n",
    "In exercise 9, we’ve written a program that “knows” a number and asks a user to guess it. This time, we’re going to do exactly the opposite. You, the user, will have in your head a number between 0 and 100. The program will guess a number, and you, the user, will say whether it is too high, too low, or your number. At the end of this exchange, your program should print out how many guesses it took to get your number.\n",
    "\n",
    "\n",
    "\n",
    "</font>\n",
    "<br><br>\n",
    "\n",
    "<font size = 2 color = green>Brief Description of code</font>\n",
    "<br><br>\n",
    "This code asks user to guess a number lying in between 0 and 100. It then displays a number and asks user to tell whether the number guessed is less more or same. Internally code works by successively taking average of the lower and upper bound of the number to make guesses. It will finally tell how many guesses were made before coming to choose the right number. "
   ]
  },
  {
   "cell_type": "code",
   "execution_count": 2,
   "metadata": {},
   "outputs": [
    {
     "name": "stdout",
     "output_type": "stream",
     "text": [
      "Please make a guess of an integer number lying between 0 and 100 exclusive \n",
      "\n",
      "\n",
      "\n",
      " Is your number equal to, lower than or higher than 50? \n",
      "\n",
      " Please type \n",
      "1) 't' if true \n",
      "2) 'l' if 50 is more than you guessed \n",
      "3) 'u' if 50 is less than you guessed \n",
      "l\n",
      "\n",
      " Is your number equal to, lower than or higher than 25? \n",
      "\n",
      " Please type \n",
      "1) 't' if true \n",
      "2) 'l' if 25 is more than you guessed \n",
      "3) 'u' if 25 is less than you guessed \n",
      "l\n",
      "\n",
      " Is your number equal to, lower than or higher than 12? \n",
      "\n",
      " Please type \n",
      "1) 't' if true \n",
      "2) 'l' if 12 is more than you guessed \n",
      "3) 'u' if 12 is less than you guessed \n",
      "u\n",
      "\n",
      " Is your number equal to, lower than or higher than 18? \n",
      "\n",
      " Please type \n",
      "1) 't' if true \n",
      "2) 'l' if 18 is more than you guessed \n",
      "3) 'u' if 18 is less than you guessed \n",
      "u\n",
      "\n",
      " Is your number equal to, lower than or higher than 21? \n",
      "\n",
      " Please type \n",
      "1) 't' if true \n",
      "2) 'l' if 21 is more than you guessed \n",
      "3) 'u' if 21 is less than you guessed \n",
      "u\n",
      "\n",
      " Is your number equal to, lower than or higher than 23? \n",
      "\n",
      " Please type \n",
      "1) 't' if true \n",
      "2) 'l' if 23 is more than you guessed \n",
      "3) 'u' if 23 is less than you guessed \n",
      "t\n",
      "\n",
      "\n",
      " Number you guessed is 23 \n",
      "\n",
      "It took 6 rounds to make a correct guess\n"
     ]
    }
   ],
   "source": [
    "print('Please make a guess of an integer number lying between 0 and 100 exclusive \\n\\n')\n",
    "\n",
    "lower_bound = 0\n",
    "upper_bound = 100\n",
    "\n",
    "n = 0\n",
    "while True:\n",
    "    average = (upper_bound + lower_bound)//2\n",
    "    guess = input(f\"\\n Is your number equal to, lower than or higher than {average}? \\n\\n Please type \\n\"\n",
    "                  f\"1) 't' if true \\n\"\n",
    "                  f\"2) 'l' if {average} is more than you guessed \\n\"\n",
    "                  f\"3) 'u' if {average} is less than you guessed \\n\")\n",
    "    n +=1  \n",
    "    if guess == 't' or guess == 'T':\n",
    "        print(f'\\n\\n Number you guessed is {average} \\n')\n",
    "        print(f'It took {n} rounds to make a correct guess')\n",
    "        break\n",
    "    elif guess == 'l' or guess == 'L':\n",
    "        upper_bound = average\n",
    "    elif guess == 'u' or  guess == 'U':\n",
    "        lower_bound = average\n",
    "    "
   ]
  },
  {
   "cell_type": "code",
   "execution_count": null,
   "metadata": {},
   "outputs": [],
   "source": []
  }
 ],
 "metadata": {
  "kernelspec": {
   "display_name": "Python 3",
   "language": "python",
   "name": "python3"
  },
  "language_info": {
   "codemirror_mode": {
    "name": "ipython",
    "version": 3
   },
   "file_extension": ".py",
   "mimetype": "text/x-python",
   "name": "python",
   "nbconvert_exporter": "python",
   "pygments_lexer": "ipython3",
   "version": "3.7.0"
  }
 },
 "nbformat": 4,
 "nbformat_minor": 2
}
