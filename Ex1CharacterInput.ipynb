{
 "cells": [
  {
   "cell_type": "markdown",
   "metadata": {},
   "source": [
    "Question 1\n",
    "\n",
    "Create a program that asks the user to enter their name and their age. Print out a message addressed to them that tells them the year that they will turn 100 years old.\n",
    "\n",
    "Extras:\n",
    "\n",
    "<ul>Add on to the previous program by asking the user for another number and printing out that many copies of the previous message.</ul>\n",
    "\n",
    "<ul>Print out that many copies of the previous message on separate lines. </ul>"
   ]
  },
  {
   "cell_type": "code",
   "execution_count": 5,
   "metadata": {},
   "outputs": [
    {
     "name": "stdout",
     "output_type": "stream",
     "text": [
      "Please enter your name. aoj\n",
      "Please enter how old are you. 36\n",
      "Helloh! aoj you will turn 100 years old by 2084\n",
      "Please enter any integer between 0 and 10.  3\n",
      "\n",
      "\n",
      "Helloh! aoj you will turn 100 years old by 2084Helloh! aoj you will turn 100 years old by 2084Helloh! aoj you will turn 100 years old by 2084\n",
      "\n",
      "Helloh! aoj you will turn 100 years old by 2084 \n",
      "Helloh! aoj you will turn 100 years old by 2084 \n",
      "Helloh! aoj you will turn 100 years old by 2084 \n"
     ]
    }
   ],
   "source": [
    "from datetime import datetime  # Importing date time module\n",
    "\n",
    "name = input('Please enter your name. ')  # Asking user to enter their name\n",
    "\n",
    "age = int(input('Please enter how old are you. ')) # Asking user to enter their age and converting it to integer\n",
    "\n",
    "\n",
    "# <------ We imported datetime module above. Below we make a use of it to extract current year. -------> #\n",
    "\n",
    "# <------ In the line below 'datetime.today().year' extracts the current year.  -----> #\n",
    "\n",
    "age_hundred = datetime.today().year + (100 - age)\n",
    "\n",
    "message = print(f'Helloh! {name} you will turn 100 years old by {age_hundred}')\n",
    "\n",
    "\n",
    "#<---This part is for extra part of the questions.----> #\n",
    "\n",
    "number = int(input('Please enter any integer between 0 and 10.  '))\n",
    "\n",
    "print('\\n') # This line of code is written only to create a line space to make our result look tidy.\n",
    "\n",
    "#<--- This will answer first part of the extra tail question. Asking user for any number(done above) and ----->\n",
    "#     printing that message that many number of times.\n",
    "\n",
    "print(number*f'Helloh! {name} you will turn 100 years old by {age_hundred}')\n",
    "\n",
    "\n",
    "#  This will anwer the second tail of the extra question i.e. printing messages on separate lines for an \n",
    "#  <--- entered number of times.\n",
    "print(number*f'\\nHelloh! {name} you will turn 100 years old by {age_hundred} ')\n"
   ]
  },
  {
   "cell_type": "code",
   "execution_count": null,
   "metadata": {},
   "outputs": [],
   "source": []
  }
 ],
 "metadata": {
  "kernelspec": {
   "display_name": "Python 3",
   "language": "python",
   "name": "python3"
  },
  "language_info": {
   "codemirror_mode": {
    "name": "ipython",
    "version": 3
   },
   "file_extension": ".py",
   "mimetype": "text/x-python",
   "name": "python",
   "nbconvert_exporter": "python",
   "pygments_lexer": "ipython3",
   "version": "3.7.0"
  }
 },
 "nbformat": 4,
 "nbformat_minor": 2
}
