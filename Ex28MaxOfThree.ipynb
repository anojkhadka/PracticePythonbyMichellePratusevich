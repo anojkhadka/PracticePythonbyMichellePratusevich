{
 "cells": [
  {
   "cell_type": "markdown",
   "metadata": {},
   "source": [
    "<font size = 2 color = red>QUESTION </font>\n",
    "<br><br>\n",
    "<font size = 2> \n",
    "Implement a function that takes as input three variables, and returns the largest of the three. Do this without using the Python max() function!\n",
    "\n",
    "The goal of this exercise is to think about some internals that Python normally takes care of for us. All you need is some variables and if statements!\n",
    "\n",
    "</font>\n",
    "<br><br>\n",
    "\n",
    "<font size = 2 color = green>Brief Description of code</font>\n",
    "<br><br>\n",
    "\n",
    "This is a simple code and uses if conditional statement and some logic to choose maximum number among three \n",
    "given numbers.\n",
    "\n"
   ]
  },
  {
   "cell_type": "code",
   "execution_count": 8,
   "metadata": {},
   "outputs": [],
   "source": [
    "def maximum_of_three(x,y,z):\n",
    "    \n",
    "    ''' This function takes three numbers(integer or float) as an input and returns the maximum of those \n",
    "    three numbers. '''\n",
    "    \n",
    "    if x>y and x>z:\n",
    "        print(f'{x} is the maximum of three')\n",
    "        \n",
    "    elif y>x and y>z:\n",
    "        print(f'{y} is the maximum of three')\n",
    "        \n",
    "    else:\n",
    "        print(f'{z} is the maximum of three')\n",
    "        "
   ]
  },
  {
   "cell_type": "code",
   "execution_count": 9,
   "metadata": {},
   "outputs": [
    {
     "name": "stdout",
     "output_type": "stream",
     "text": [
      "21.34 is the maximum of three\n"
     ]
    }
   ],
   "source": [
    "maximum_of_three(21.34, 21.33, 2)"
   ]
  },
  {
   "cell_type": "code",
   "execution_count": 10,
   "metadata": {},
   "outputs": [
    {
     "name": "stdout",
     "output_type": "stream",
     "text": [
      "123 is the maximum of three\n"
     ]
    }
   ],
   "source": [
    "maximum_of_three(123, 54, 83)"
   ]
  },
  {
   "cell_type": "code",
   "execution_count": null,
   "metadata": {},
   "outputs": [],
   "source": []
  }
 ],
 "metadata": {
  "kernelspec": {
   "display_name": "Python 3",
   "language": "python",
   "name": "python3"
  },
  "language_info": {
   "codemirror_mode": {
    "name": "ipython",
    "version": 3
   },
   "file_extension": ".py",
   "mimetype": "text/x-python",
   "name": "python",
   "nbconvert_exporter": "python",
   "pygments_lexer": "ipython3",
   "version": "3.7.0"
  }
 },
 "nbformat": 4,
 "nbformat_minor": 2
}
