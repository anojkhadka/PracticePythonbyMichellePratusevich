{
 "cells": [
  {
   "cell_type": "markdown",
   "metadata": {},
   "source": [
    "<font size = 2 color = red>QUESTION </font>\n",
    "<br><br>\n",
    "<font size = 2> \n",
    "Take the code from the \"How To Decode A Website exercise\" (previous exercise Ex 17), and instead of printing the results to a screen, write the results to a txt file. In your code, just make up a name for the file you are saving to.\n",
    "\n",
    "Extras:\n",
    "\n",
    "Ask the user to specify the name of the output file that will be saved.\n",
    "\n",
    "</font>\n",
    "<br><br>\n",
    "\n",
    "<font size = 2 color = green>Brief Description of code</font>\n",
    "<br><br>"
   ]
  },
  {
   "cell_type": "code",
   "execution_count": null,
   "metadata": {},
   "outputs": [],
   "source": []
  },
  {
   "cell_type": "code",
   "execution_count": 1,
   "metadata": {},
   "outputs": [],
   "source": [
    "import requests\n",
    "from bs4 import BeautifulSoup\n",
    "from datetime import datetime\n",
    "\n",
    "ny_page = requests.get('https://www.nytimes.com/')   # Making a request to extract html content of the web-site.\n",
    "\n",
    "page_content = ny_page.text   # This will convert the html data into text that can be printed or displayed.\n",
    "\n",
    "ny_soup = BeautifulSoup(page_content)    # Using 'BeautifulSoup' library over the content we have scrapped. This\n",
    "                                         # will initiate the functionalities of soup library.\n",
    "\n",
    "news_headlines = ny_soup.find_all('h2')  # Using 'find_all' method from soup library to find all the tags 'h2'.\n",
    "                                         # We need to search before in the html page content of the site\n",
    "                                         # to know which tag contains the data we want to scrap from the site.\n",
    "        \n",
    "remove = ny_soup.find_all('h2', class_= \"css-1dv1kvn\")  # specified tag with 'class_' = \"css-1dv1kvn\" attribute\n",
    "                                                        # contains information that we don't want. This too is \n",
    "                                                        # found by doing preliminary research.\n",
    "        \n",
    "remove[0].decompose()  # Unwanted content we found from previous line of code is removed using 'decompose()' \n",
    "remove[1].decompose()  # method.\n",
    "\n",
    "\n",
    "# Using datetime module to include the date on which these news headlines were published.\n",
    "\n",
    "today_date = datetime.today().strftime('%c')\n",
    "\n",
    "\n",
    "# Loop below will print out the information we wanted to grab from the specified webiste. In the code above at \n",
    "# line 11 all the necessary information are stored as a list and we loop through those list. Also, 'get_text()'\n",
    "# method has been used in the print statment inside the loop below. This will help us to remove the html tags\n",
    "# and hence print only the text without any computer languages in it.\n",
    "\n",
    "# Note: loop is two less than the total lenght of the list because last two elements were unnecessary \n",
    "# information.\n",
    "\n",
    "with open('newyorktimes_headlines.txt', 'w') as writer:\n",
    "    \n",
    "    writer.write(f'\\n Following are the lists of news headlines published in New York Times on {today_date} .\\n\\n\\n')\n",
    "\n",
    "    for index in range(0, len(news_headlines) - 2):\n",
    "        headlines = str(index + 1) + ')  ' + news_headlines[index].get_text() + '\\n\\n'\n",
    "        writer.write(headlines)\n"
   ]
  },
  {
   "cell_type": "code",
   "execution_count": null,
   "metadata": {},
   "outputs": [],
   "source": []
  }
 ],
 "metadata": {
  "kernelspec": {
   "display_name": "Python 3",
   "language": "python",
   "name": "python3"
  },
  "language_info": {
   "codemirror_mode": {
    "name": "ipython",
    "version": 3
   },
   "file_extension": ".py",
   "mimetype": "text/x-python",
   "name": "python",
   "nbconvert_exporter": "python",
   "pygments_lexer": "ipython3",
   "version": "3.7.0"
  }
 },
 "nbformat": 4,
 "nbformat_minor": 2
}
