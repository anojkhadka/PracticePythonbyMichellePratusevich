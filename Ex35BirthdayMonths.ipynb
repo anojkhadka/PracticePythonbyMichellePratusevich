{
 "cells": [
  {
   "cell_type": "markdown",
   "metadata": {},
   "source": [
    "<font size = 2 color = red>QUESTION </font>\n",
    "<br><br>\n",
    "<font size = 2> \n",
    "This exercise is Part 3 of 4 of the birthday data exercise series. The other exercises are: Part 1, Part 2, and Part 4.\n",
    "<br><br>\n",
    "In the previous exercise we saved information about famous scientists’ names and birthdays to disk. In this exercise, load that JSON file from disk, extract the months of all the birthdays, and count how many scientists have a birthday in each month.\n",
    "\n",
    "\n",
    "\n",
    "</font>\n",
    "<br><br>\n",
    "\n",
    "<font size = 2 color = green>Brief Description of code</font>\n",
    "<br><br>\n",
    "\n",
    "Basic framework of this code is that each month from a list of all twelve months will be mapped with the list of months from the json file and total number of scientists born on each of those months will be counted. Once we have checked for all the twelve months the result will be displayed. \n",
    "\n",
    "This code expects that the Name and birth dates of the scientist are correctly  written in the json file. Dates are expected to be written in the format DD-MM-yyyy. Improper entry of the dates in the json file will not give the intended result. To check this code, json file used also needs to be saved in the same directory where this code file is kept. \n"
   ]
  },
  {
   "cell_type": "code",
   "execution_count": 29,
   "metadata": {},
   "outputs": [],
   "source": [
    "import json"
   ]
  },
  {
   "cell_type": "code",
   "execution_count": 30,
   "metadata": {},
   "outputs": [],
   "source": [
    "\n",
    "with open('Birthdates.json', 'r+') as json_file:   # Here we create a list of bday months by extracting those\n",
    "    bday_dict = json.load(json_file)               # values from json file\n",
    "    bday_list = list(bday_dict.values())\n",
    "    \n",
    "empty_list = []                                    # In this section we try to create a list that will contain   \n",
    "for ind in range(0, len(bday_list)):               # all the months of the scientist as many times as it appear\n",
    "    month_parse = bday_list[ind].split('-')[1]\n",
    "    empty_list.append(month_parse)\n",
    "\n",
    "    \n",
    "set_of_months = set(empty_list)                    # This section we create a unique list of birthday months.\n",
    "month_list = list(set_of_months)\n"
   ]
  },
  {
   "cell_type": "code",
   "execution_count": 31,
   "metadata": {},
   "outputs": [
    {
     "name": "stdout",
     "output_type": "stream",
     "text": [
      "Month   \tNumber of Scientists\n",
      "\n",
      "January   \t1\n",
      "February   \t2\n",
      "April   \t2\n",
      "November   \t2\n",
      "December   \t2\n"
     ]
    }
   ],
   "source": [
    "# This dictionary will be used in a loop later to map the name of the month and numerical value of the month.\n",
    "\n",
    "months_code = {'01':'January', '02':'February', '03':'March', '04':'April', '05':'May', '06':'June', '07':'July',\n",
    "               '08':'August', '09':'September', '10':'October', '11':'November', '12':'December' }\n",
    "\n",
    "months_code_list = list(months_code.keys())  # Getting list of all months in numerical form\n",
    "\n",
    "print('Month', end = '   \\t')\n",
    "print('Number of Scientists\\n')\n",
    "\n",
    "'''This loop below does the main job of matching each month from the dictionary above to the birthday month of\n",
    "  the scientists and prints number of scientist born on each of those months'''\n",
    "\n",
    "for i in range(0, len(months_code_list)):    \n",
    "    \n",
    "    if months_code_list[i] in month_list:\n",
    "        count = empty_list.count(months_code_list[i])\n",
    "        month_name = months_code.get(months_code_list[i])\n",
    "        print(month_name, end = '   \\t')\n",
    "        print(count)\n"
   ]
  },
  {
   "cell_type": "code",
   "execution_count": null,
   "metadata": {},
   "outputs": [],
   "source": []
  }
 ],
 "metadata": {
  "kernelspec": {
   "display_name": "Python 3",
   "language": "python",
   "name": "python3"
  },
  "language_info": {
   "codemirror_mode": {
    "name": "ipython",
    "version": 3
   },
   "file_extension": ".py",
   "mimetype": "text/x-python",
   "name": "python",
   "nbconvert_exporter": "python",
   "pygments_lexer": "ipython3",
   "version": "3.7.0"
  }
 },
 "nbformat": 4,
 "nbformat_minor": 2
}
