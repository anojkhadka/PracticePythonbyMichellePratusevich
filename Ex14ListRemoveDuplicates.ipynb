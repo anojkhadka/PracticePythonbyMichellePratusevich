{
 "cells": [
  {
   "cell_type": "markdown",
   "metadata": {},
   "source": [
    "<font size = 2 color = red>QUESTION </font>\n",
    "<br><br>\n",
    "<font size = 2> \n",
    "Write a program (function!) that takes a list and returns a new list that contains all the elements of the first list minus all the duplicates.\n",
    "    \n",
    "    Write two different functions to do this - one using a loop and constructing a list, and  another using sets.\n",
    "    \n",
    "</font>\n",
    "<br><br>\n",
    "\n",
    "<font size = 2 color = green>Brief Description of code</font>\n",
    "<br><br>\n",
    "There are two solutions presented for this exercise. First solution will make use of for loop and different function of list while second solution makes use of set() python function. Second solution is much simpler and easier. However, first solution helps one to understand how to get things done even when we are not able to use standard python methods. "
   ]
  },
  {
   "cell_type": "code",
   "execution_count": null,
   "metadata": {},
   "outputs": [],
   "source": []
  },
  {
   "cell_type": "code",
   "execution_count": 49,
   "metadata": {},
   "outputs": [
    {
     "name": "stdout",
     "output_type": "stream",
     "text": [
      "Original List:  [2, 3, 1, 2, 'sama', 45, 32, 8, 8, 'arbin', 4.5, 82, 11, 'arbin', 23]\n",
      "\n",
      "\n",
      "\n",
      "New List without duplication\n"
     ]
    },
    {
     "data": {
      "text/plain": [
       "[3, 1, 2, 'sama', 45, 32, 8, 4.5, 82, 11, 'arbin', 23]"
      ]
     },
     "execution_count": 49,
     "metadata": {},
     "output_type": "execute_result"
    }
   ],
   "source": [
    "'''Duplicate_list function will return a list of uniueq elements by removing duplicate copies of any elements. \n",
    "   So if an element is reapeated more than once it will be kept in the list only once. This is the job this \n",
    "   function does. \n",
    "'''\n",
    "\n",
    "\n",
    "def Duplicate_list(x):\n",
    "    \n",
    "    print('Original List: ', x)     # Displaying original list\n",
    " \n",
    "    for k in range(0, len(x)):\n",
    "        \n",
    "        if x.count(x[k]) > 1:      # This will pick all the elements that are repeated more than once.\n",
    "            \n",
    "\n",
    "            x.remove(x[k])         # Remove repeating element once.\n",
    "            \n",
    "\n",
    "# This line of code will replace the element removed with value 'None'. This line may look useless but it \n",
    "# helps to keep the loop running smoothly. Once we remove element from the line above the number of elements in \n",
    "# the list also changes. This will occur frequently if there is repeatition of other elements too. This causes \n",
    "# the code to ultimately run the list index out of range and hence give rise to error. But once we replace the \n",
    "# element removed with value 'None' the number or elements in the list will remain intact and loop runs smoothly.\n",
    "\n",
    "            \n",
    "            x.insert(k, None)      \n",
    "        \n",
    "# List comprehension introduced below will weed out all the 'None' elements we inserted in the list above to \n",
    "# prevent loop from running out of index range.\n",
    "\n",
    "\n",
    "    [x.remove(None) for i in range(0, len(x)) if None in x]   \n",
    "    \n",
    "    print('\\n\\n')\n",
    "    print('New List without duplication')\n",
    "    \n",
    "    return x\n",
    "\n",
    "\n",
    "z = [2, 3, 1, 2, 'sama', 45, 32, 8, 8, 'arbin', 4.5, 82, 11, 'arbin', 23]\n",
    "\n",
    "\n",
    "Duplicate_list(z)\n",
    "\n",
    "\n",
    "\n"
   ]
  },
  {
   "cell_type": "code",
   "execution_count": null,
   "metadata": {},
   "outputs": [],
   "source": []
  },
  {
   "cell_type": "code",
   "execution_count": 50,
   "metadata": {},
   "outputs": [
    {
     "name": "stdout",
     "output_type": "stream",
     "text": [
      "Original set:  [2, 3, 1, 2, 'sama', 45, 32, 8, 8, 'arbin', 4.5, 82, 11, 'arbin', 23]\n",
      "\n",
      "\n",
      "\n",
      "New list without duplication\n"
     ]
    },
    {
     "data": {
      "text/plain": [
       "{1, 11, 2, 23, 3, 32, 4.5, 45, 8, 82, 'arbin', 'sama'}"
      ]
     },
     "execution_count": 50,
     "metadata": {},
     "output_type": "execute_result"
    }
   ],
   "source": [
    "''' This function makes use of set() python function. set() funtion will only include unique elements hence \n",
    "automatically weeds out repeating values. It is as simple as this.'''\n",
    "\n",
    "\n",
    "def List_Duplication(x):\n",
    "    \n",
    "    print('Original set: ', z)\n",
    "    print('\\n\\n')\n",
    "    print('New list without duplication')\n",
    "    return set(x)   \n",
    "\n",
    "\n",
    "\n",
    "\n",
    "z = [2, 3, 1, 2, 'sama', 45, 32, 8, 8, 'arbin', 4.5, 82, 11, 'arbin', 23]\n",
    "\n",
    "\n",
    "List_Duplication(z)\n",
    "\n",
    "\n"
   ]
  },
  {
   "cell_type": "code",
   "execution_count": null,
   "metadata": {},
   "outputs": [],
   "source": []
  }
 ],
 "metadata": {
  "kernelspec": {
   "display_name": "Python 3",
   "language": "python",
   "name": "python3"
  },
  "language_info": {
   "codemirror_mode": {
    "name": "ipython",
    "version": 3
   },
   "file_extension": ".py",
   "mimetype": "text/x-python",
   "name": "python",
   "nbconvert_exporter": "python",
   "pygments_lexer": "ipython3",
   "version": "3.7.0"
  }
 },
 "nbformat": 4,
 "nbformat_minor": 2
}
