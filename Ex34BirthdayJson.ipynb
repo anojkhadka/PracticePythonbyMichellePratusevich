{
 "cells": [
  {
   "cell_type": "markdown",
   "metadata": {},
   "source": [
    "<font size = 2 color = red>QUESTION </font>\n",
    "<br><br>\n",
    "<font size = 2> \n",
    "This exercise is Part 2 of 4 of the birthday data exercise series. The other exercises are: Part 1, Part 3, and Part 4.\n",
    "<br><br>\n",
    "In the previous exercise we created a dictionary of famous scientists’ birthdays. In this exercise, modify your program from Part 1 to load the birthday dictionary from a JSON file on disk, rather than having the dictionary defined in the program.\n",
    "<br><br>\n",
    "\n",
    "Bonus: Ask the user for another scientist’s name and birthday to add to the dictionary, and update the JSON file you have on disk with the scientist’s name. If you run the program multiple times and keep adding new names, your JSON file should keep getting bigger and bigger.\n",
    "\n",
    "</font>\n",
    "<br><br>\n",
    "\n",
    "<font size = 2 color = green>Brief Description of code</font>\n",
    "<br><br>\n",
    "\n",
    "This code does all the job asked in the question. The way this code is designed is that first I create a simple dictionary of names and birthdates. This will act as a base to sart with. I have written three simple functions inside head Birthday function. Ask_Birthday function will do the job of asking user on whose birthday s/he wants to know and return the birthday accordingly. Another function Add_Birthday will do the job of adding birthday by user in the file. 'Update_jsonfile' function will keep updating the json file. \n",
    "\n",
    "In order to run this code one needs to upload the jsonfile or create one along with this code file. As this code \n",
    "is run, it ask user to choose option between aksing and adding birthdate. Wrong option chosen will lead to display of warning message and termination of the program.\n",
    "\n",
    "\n",
    "Though information will be displayed to enter the birth date in the correct format this code will not identify if birthdates are entered in wrong format."
   ]
  },
  {
   "cell_type": "code",
   "execution_count": 17,
   "metadata": {},
   "outputs": [],
   "source": [
    "import json\n",
    "\n",
    "birthday_dict = {\"Leonardo da Vinci\": \"15-04-1452\", \"Galileo Galilei\": \"15-02-1564\", \"Isaac Newton\": \"25-12-1642\",\n",
    "        \"Maria Sibylla Merian\":\"2-04-1647\", \"Charles Darwin\": \"12-02-1809\", \"Ada Lovelace\": \"10-12-1815\"\n",
    "       }"
   ]
  },
  {
   "cell_type": "code",
   "execution_count": 20,
   "metadata": {},
   "outputs": [],
   "source": [
    "def Birthday():\n",
    "    \n",
    "    \n",
    "\n",
    "    ##################\n",
    "    def Ask_Birthday():  \n",
    "        ''' This function will ask user to choose one of the name from a list and return the birth date of chosen\n",
    "            name'''\n",
    "    \n",
    "        with open('Birthdates.json', 'r+') as read_file:\n",
    "                dictionary = json.load(read_file)\n",
    "                names = list(dictionary.keys())\n",
    "    \n",
    "        for ind in range(0, len(names)):\n",
    "            print(names[ind])\n",
    "    \n",
    "        name_input = input('\\nPlease type the name of the scientist exactly as shown in the list whose birth date you' \n",
    "                           ' want to know. \\n\\n')\n",
    "        \n",
    "        if name_input not in names:\n",
    "            print('\\n Wrong match! Please type correct name.')\n",
    "        else:     \n",
    "            print(f'\\n\\nBirth date of {name_input} is on: {dictionary[name_input]}')\n",
    "    \n",
    "    ##################\n",
    "    def Update_jsonfile():\n",
    "        ''' This will update the json file when new birthdates are entered'''\n",
    "        \n",
    "        with open('Birthdates.json', 'w') as file:\n",
    "            json.dump(birthday_dict, file, indent = 0)\n",
    "    \n",
    "    \n",
    "    ##################\n",
    "    def Add_Birthday():\n",
    "        ''' This function does the job of asking user to input the name and birth date and update the json file.'''\n",
    "    \n",
    "        name_input = input('\\n Please enter the name of scientist whose birth date you want to add.')\n",
    "\n",
    "        bdate_input = input('\\n Please enter the birtdate of the scientist in the format: DD-MM-YYYY. ')\n",
    "    \n",
    "        new_entry = {name_input: bdate_input}\n",
    "        if name_input not in list(birthday_dict.keys()):\n",
    "            birthday_dict.update(new_entry)\n",
    "            Update_jsonfile()\n",
    "\n",
    "        else:\n",
    "            print(f'{name_input} already appears in the list')\n",
    "        \n",
    "        \n",
    "    \n",
    "    while True:     # This loop runs only once as break is used at the end\n",
    "        \n",
    "        query = input('Do you want to inquire or add birth date of a scientist? \\n\\nPlease type 1 if you want' \n",
    "                      ' to inquire and type 2 if you want to add.\\n\\n')\n",
    "    \n",
    "        if query == str(1):\n",
    "            Ask_Birthday()\n",
    "        \n",
    "        elif query == str(2):\n",
    "            Add_Birthday()\n",
    "        \n",
    "        else:\n",
    "            print('\\nSorry! You chose invalid operation.')\n",
    "            break\n",
    "        break"
   ]
  },
  {
   "cell_type": "code",
   "execution_count": null,
   "metadata": {},
   "outputs": [],
   "source": []
  },
  {
   "cell_type": "code",
   "execution_count": null,
   "metadata": {},
   "outputs": [],
   "source": []
  },
  {
   "cell_type": "code",
   "execution_count": null,
   "metadata": {},
   "outputs": [],
   "source": []
  },
  {
   "cell_type": "code",
   "execution_count": 21,
   "metadata": {},
   "outputs": [
    {
     "name": "stdout",
     "output_type": "stream",
     "text": [
      "Do you want to inquire or add birth date of a scientist? \n",
      "\n",
      "Please type 1 if you want to inquire and type 2 if you want to add.\n",
      "\n",
      "1\n",
      "Leonardo da Vinci\n",
      "Galileo Galilei\n",
      "Isaac Newton\n",
      "Maria Sibylla Merian\n",
      "Charles Darwin\n",
      "Ada Lovelace\n",
      "Leonard Euler\n",
      "William Shockley\n",
      "Sinitiro Tomonaga\n",
      "\n",
      "Please type the name of the scientist exactly as shown in the list whose birth date you want to know. \n",
      "\n",
      "Sinitiro Tomonaga\n",
      "\n",
      "\n",
      "Birth date of Sinitiro Tomonaga is on: 21-01-1458\n"
     ]
    }
   ],
   "source": [
    "Birthday()"
   ]
  },
  {
   "cell_type": "code",
   "execution_count": null,
   "metadata": {},
   "outputs": [],
   "source": []
  }
 ],
 "metadata": {
  "kernelspec": {
   "display_name": "Python 3",
   "language": "python",
   "name": "python3"
  },
  "language_info": {
   "codemirror_mode": {
    "name": "ipython",
    "version": 3
   },
   "file_extension": ".py",
   "mimetype": "text/x-python",
   "name": "python",
   "nbconvert_exporter": "python",
   "pygments_lexer": "ipython3",
   "version": "3.7.0"
  }
 },
 "nbformat": 4,
 "nbformat_minor": 2
}
