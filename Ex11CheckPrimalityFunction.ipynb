{
 "cells": [
  {
   "cell_type": "markdown",
   "metadata": {},
   "source": [
    "<font size = 2 color = red>Question 11</font>\n",
    "<br><br>\n",
    "<font size = 2>\n",
    "Ask the user for a number and determine whether the number is prime or not.\n",
    "\n",
    "</font>"
   ]
  },
  {
   "cell_type": "markdown",
   "metadata": {},
   "source": [
    "<font size = 2 color = green>Brief description of the solution</font>\n",
    "<br><br>\n",
    "\n",
    "In the webpage, this question has been introduced with an aim of introducing the concept of function in python. I have written a python function that can determine if a given integer is a prime or not. The function is called later in the code.\n",
    "\n",
    "Prime numbers are those integer numbers which are divisible only by 1 and itself. 0 and 1 is not a prime number. Also, negative integers are not prime numbers as well. In order for a number to check whether it is prime or not, we need in principle, to find out if there are other numbers except 1 and itself that exactly divides it. For instance, if we want to know whether 57 is a prime or not, we need to know if there are any other positive integers besides 1 and 57 itself that exactly divides it. In order to do this, we need to check whether all other numbers exactly divide 57 or not. \n",
    "\n",
    "I have separated 0, 1 and 2 to inform about their primality status. Other numbers can be checked for exact divisibility by making use of for loop. Error handling is done if user enters negative integers. However, I have not handled error if user enters alphabets, string characters and floating numbers."
   ]
  },
  {
   "cell_type": "code",
   "execution_count": null,
   "metadata": {},
   "outputs": [],
   "source": []
  },
  {
   "cell_type": "code",
   "execution_count": 20,
   "metadata": {},
   "outputs": [
    {
     "name": "stdout",
     "output_type": "stream",
     "text": [
      "Please enter any positive integer \n",
      "\n",
      "89\n",
      "\n",
      "\n",
      " 89 is a prime number \n"
     ]
    }
   ],
   "source": [
    "# This function will check if any given number is prime or not.\n",
    "\n",
    "def PrimeNumberCheck(number):\n",
    "    \n",
    "    # 0,1 and 2 are checked individually for their primality using separate control flow statements.\n",
    "    \n",
    "    if number == 0:\n",
    "        print('\\n\\n 0 is not a prime number \\n\\n')\n",
    "\n",
    "    elif number == 1:\n",
    "        print('\\n\\n 1 is not a prime nubmer \\n\\n')\n",
    "    \n",
    "    \n",
    "    elif number == 2:\n",
    "        print('\\n\\n 2 is a prime nubmer \\n\\n')\n",
    "        \n",
    "    # For numbers greater than 2 primality check is done using a for loop.    \n",
    "        \n",
    "    elif number > 2:\n",
    "        \n",
    "        empty_list = []   # This empty list will store value 'delta' if given number will be exactly divisible\n",
    "                          # by any other number than 1 and the number to be checked itself.\n",
    "            \n",
    "            \n",
    "    # for loop below is used to check if a given number is exactly divisible by number other than 1 and itself.\n",
    "    # So, the for loop first checks for the divisibility of all the nubmers. If there exists any number\n",
    "    # between 2 and itself that exactly divides given nubmer value 'delta' will be appended in the empty_list\n",
    "    # created above and the code breaks as there is no necessary to check further since the given number will\n",
    "    # not be prime any more. No number exactly divides the given number means the empty_list will be empty.\n",
    "    # Based on the  value in the empty_list we determine using if conditional satement whether a given number is\n",
    "    # prime or not.\n",
    "    \n",
    "    \n",
    "        for k in range(2, number):\n",
    "        \n",
    "                if number%k == 0:\n",
    "                    empty_list.append('delta')\n",
    "                    break\n",
    "                \n",
    "        if 'delta' in empty_list:\n",
    "            print(f'\\n\\n {number} is a NOT a prime number ')\n",
    "\n",
    "        else:\n",
    "            print(f'\\n\\n {number} is a prime number ')\n",
    "\n",
    "    else:\n",
    "        print('Invalid entry!')\n",
    "  \n",
    "\n",
    "\n",
    "        \n",
    "number = int(input('Please enter any positive integer \\n\\n'))\n",
    "\n",
    "PrimeNumberCheck(number)  # Calling function written above to check the primality of given number.\n",
    "\n"
   ]
  },
  {
   "cell_type": "code",
   "execution_count": null,
   "metadata": {},
   "outputs": [],
   "source": []
  }
 ],
 "metadata": {
  "kernelspec": {
   "display_name": "Python 3",
   "language": "python",
   "name": "python3"
  },
  "language_info": {
   "codemirror_mode": {
    "name": "ipython",
    "version": 3
   },
   "file_extension": ".py",
   "mimetype": "text/x-python",
   "name": "python",
   "nbconvert_exporter": "python",
   "pygments_lexer": "ipython3",
   "version": "3.7.0"
  }
 },
 "nbformat": 4,
 "nbformat_minor": 2
}
