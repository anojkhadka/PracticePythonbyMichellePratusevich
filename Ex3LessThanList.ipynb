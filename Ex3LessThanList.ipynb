{
 "cells": [
  {
   "cell_type": "markdown",
   "metadata": {},
   "source": [
    "<font size = 2>\n",
    "Take a list as shown in an example below and write a program that prints out all the elements that are less than\n",
    "20.\n",
    "<br><br>\n",
    "Number_list = [ 12, 34, 56, 1, 3, 11, 45, 102, -45, 22, 0, 19]\n",
    "\n",
    "Extras:\n",
    "\n",
    "<ul>\n",
    "<li>Instead of printing the number one by one make a new list that has all the those selected elements and print the list.</li>\n",
    "\n",
    "<li>Ask the user for a number and return a list that contains only elements from the original list 'Number_list' that are smaller than that number given by the user.</li>\n",
    "\n",
    "</ul>\n",
    "</font>"
   ]
  },
  {
   "cell_type": "code",
   "execution_count": 7,
   "metadata": {},
   "outputs": [
    {
     "name": "stdout",
     "output_type": "stream",
     "text": [
      "12\n",
      "1\n",
      "3\n",
      "11\n",
      "-45\n",
      "0\n",
      "19\n"
     ]
    }
   ],
   "source": [
    "# Main part of the question\n",
    "\n",
    "\n",
    "number_list = [ 12, 34, 56, 1, 3, 11, 45, 102, -45, 22, 0, 19]\n",
    "\n",
    "for number in range(0, len(number_list)):\n",
    "    \n",
    "    if number_list[number] < 20:\n",
    "        print(number_list[number])\n",
    "        "
   ]
  },
  {
   "cell_type": "code",
   "execution_count": 8,
   "metadata": {},
   "outputs": [
    {
     "name": "stdout",
     "output_type": "stream",
     "text": [
      "[12, 1, 3, 11, -45, 0, 19]\n"
     ]
    }
   ],
   "source": [
    "# First Extra tail question\n",
    "\n",
    "number_list = [ 12, 34, 56, 1, 3, 11, 45, 102, -45, 22, 0, 19]\n",
    "\n",
    "new_list1 = []\n",
    "for number in range(0, len(number_list)):\n",
    "    \n",
    "    if number_list[number] < 20:\n",
    "        new_list.append((number_list[number]))\n",
    "        \n",
    "        \n",
    "print(new_list)\n"
   ]
  },
  {
   "cell_type": "code",
   "execution_count": 15,
   "metadata": {},
   "outputs": [
    {
     "name": "stdout",
     "output_type": "stream",
     "text": [
      "Please enter any positive integer. 20\n",
      "\n",
      "\n",
      "[12, 1, 3, 11, -45, 0, 19]\n"
     ]
    }
   ],
   "source": [
    "# Second Extra tail question\n",
    "\n",
    "number_list = [ 12, 34, 56, 1, 3, 11, 45, 102, -45, 22, 0, 19]\n",
    "\n",
    "num = int(input('Please enter any positive integer. '))\n",
    "\n",
    "new_list2 = []\n",
    "for number in range(0, len(number_list)):\n",
    "    \n",
    "    if number_list[number] < num:\n",
    "        new_list2.append((number_list[number]))\n",
    "        \n",
    "print('\\n')\n",
    "print(new_list2)\n"
   ]
  },
  {
   "cell_type": "code",
   "execution_count": null,
   "metadata": {},
   "outputs": [],
   "source": []
  }
 ],
 "metadata": {
  "kernelspec": {
   "display_name": "Python 3",
   "language": "python",
   "name": "python3"
  },
  "language_info": {
   "codemirror_mode": {
    "name": "ipython",
    "version": 3
   },
   "file_extension": ".py",
   "mimetype": "text/x-python",
   "name": "python",
   "nbconvert_exporter": "python",
   "pygments_lexer": "ipython3",
   "version": "3.7.0"
  }
 },
 "nbformat": 4,
 "nbformat_minor": 2
}
