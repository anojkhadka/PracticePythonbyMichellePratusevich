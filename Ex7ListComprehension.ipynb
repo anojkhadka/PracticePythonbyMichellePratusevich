{
 "cells": [
  {
   "cell_type": "markdown",
   "metadata": {},
   "source": [
    "<font size = 2, color = 'red'>Question</font>\n",
    "<br><br>\n",
    "<font size = 2>\n",
    "Let’s say I give you a list saved in a variable: \n",
    "\n",
    "A = [1, 4, 9, 16, 25, 36, 49, 64, 81, 100]. \n",
    "\n",
    "Write one line of Python that takes this list 'A' and makes a new list that has only the even elements of this list in it.\n",
    "</font>"
   ]
  },
  {
   "cell_type": "markdown",
   "metadata": {},
   "source": [
    "<font size = 2, color = 'green'>Brief Description of Code</font>\n",
    "<br><br>\n",
    "<font size = 2>In terms of length, this problem has a solution that is very short and looks very simple. However, list comprehension is a very useful concept in python. This will make our code shorter and look elegant. There are equal arguments contradicting this view. Some argue that list comprehension makes our code difficult to read and does not adhere to the philosophy of \"zen of python\". Opinions differ depending upon individuals. I personally feel that if we don't supercharge our list comprehension with more than one conditional statement and loop list comprehension helps to make our code shorter and look elegant. Similar to list comprehension, there are set and dictionary comprehension as well. I suggest to read this article that elaborately explains different aspects of list comprehension. </font>\n",
    "\n",
    "https://realpython.com/list-comprehension-python/"
   ]
  },
  {
   "cell_type": "code",
   "execution_count": null,
   "metadata": {},
   "outputs": [],
   "source": []
  },
  {
   "cell_type": "code",
   "execution_count": 9,
   "metadata": {},
   "outputs": [
    {
     "name": "stdout",
     "output_type": "stream",
     "text": [
      "Even Numbers from list A:  [4, 16, 36, 64, 100]\n",
      "\n",
      "\n",
      "Odd Numbers from list B:  [-23, 1, 19, 3, 7]\n"
     ]
    }
   ],
   "source": [
    "A = [1, 4, 9, 16, 25, 36, 49, 64, 81, 100]\n",
    "\n",
    "\n",
    "C = [A[k]  for k in range(0,len(A))  if A[k]%2 == 0]\n",
    "\n",
    "print('Even Numbers from list A: ', C)\n",
    "print('\\n')\n",
    "\n",
    "\n",
    "\n",
    "\n",
    "# Another example of list to test for list of odd numbers\n",
    "\n",
    "B = [-23, 0, 12, 1, -10, 34, 19, 96, 128, 3, 7]         \n",
    "\n",
    "\n",
    "D = [B[k]  for k in range(0,len(B))  if B[k]%2 != 0]\n",
    "\n",
    "print('Odd Numbers from list B: ', D)"
   ]
  },
  {
   "cell_type": "code",
   "execution_count": null,
   "metadata": {},
   "outputs": [],
   "source": []
  }
 ],
 "metadata": {
  "kernelspec": {
   "display_name": "Python 3",
   "language": "python",
   "name": "python3"
  },
  "language_info": {
   "codemirror_mode": {
    "name": "ipython",
    "version": 3
   },
   "file_extension": ".py",
   "mimetype": "text/x-python",
   "name": "python",
   "nbconvert_exporter": "python",
   "pygments_lexer": "ipython3",
   "version": "3.7.0"
  }
 },
 "nbformat": 4,
 "nbformat_minor": 2
}
