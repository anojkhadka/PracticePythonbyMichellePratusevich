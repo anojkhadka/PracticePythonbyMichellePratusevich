{
 "cells": [
  {
   "cell_type": "markdown",
   "metadata": {},
   "source": [
    "<font size = 2 color = red>QUESTION </font>\n",
    "<br><br>\n",
    "<font size = 2> \n",
    "Given two .txt files that have lists of numbers in them, find the numbers that are overlapping. One text file has a list of all prime numbers under 1000, and the other text file has a list of happy numbers up to 1000. Link to both the files are given below:\n",
    "<br><br>\n",
    "    \n",
    "Prime Numbers: http://www.practicepython.org/assets/primenumbers.txt\n",
    "\n",
    "Happy Numbers: http://www.practicepython.org/assets/happynumbers.txt\n",
    "</font>\n",
    "<br><br>\n",
    "\n",
    "<font size = 2 color = green>Brief Description of code</font>\n",
    "<br><br>\n",
    "\n",
    "Here I have used two loops to accomplish the task. First while loop will pick all the numbers from one of the file(happynumber file in my case) and store it in a list. I use next while loop to tally each item of the prime number file to all the elements in the happy numbers list to check if they match. If they match I mark them and store them. In this way the task is accomplished.\n",
    "</font>"
   ]
  },
  {
   "cell_type": "code",
   "execution_count": 4,
   "metadata": {},
   "outputs": [
    {
     "name": "stdout",
     "output_type": "stream",
     "text": [
      "There are 35 overlapping numbers common to both the files.\n",
      "\n",
      "[7, 13, 19, 23, 31, 79, 97, 103, 109, 139, 167, 193, 239, 263, 293, 313, 331, 367, 379, 383, 397, 409, 487, 563, 617, 653, 673, 683, 709, 739, 761, 863, 881, 907, 937]\n"
     ]
    }
   ],
   "source": [
    "with open('happynumbers.txt', 'r+') as happynumber, open('primenumbers.txt', 'r+') as primenumber:\n",
    "    \n",
    "    \n",
    "    happynum_list = []                                  # Empty list to store all the numbers in the happy file\n",
    "    \n",
    "    # First Part\n",
    "    \n",
    "    '''This part will pick all the numbers from happy number file and store it in a list '''\n",
    "    \n",
    "    while True:\n",
    "        \n",
    "        happy = happynumber.readline().strip('\\n')      # String parsing                        \n",
    "        if happy == '':                                 # Discontinue loop as the reading of file is complete\n",
    "            break\n",
    "        happynum_list.append(int(happy))                # By default element in the file will be read as string\n",
    "                                                        # so converting it to integer while storing in list\n",
    "    \n",
    "    \n",
    "    # Second Part\n",
    "    \n",
    "    '''This part will match each number from prime number file to all the numbers in happy number list to check\n",
    "    if they match. And, if they match it will mark and store them.'''\n",
    "    \n",
    "    \n",
    "    overlapping_list = []                               # List to store common integers\n",
    "    n = 0                                               # counter initiated to count number of common numbers\n",
    "    while True:\n",
    "        prime = primenumber.readline().strip('\\n')\n",
    "           \n",
    "        if prime == '':\n",
    "            break\n",
    "                        \n",
    "        if int(prime) in happynum_list:                 # This part will match each element from prime with all  \n",
    "            overlapping_list.append(int(prime))         # the elements in happy file.\n",
    "            n+=1\n",
    "            \n",
    "                                                 \n",
    "        \n",
    "            \n",
    "    print(f'There are {n} overlapping numbers common to both the files.\\n')\n",
    "    print(overlapping_list)"
   ]
  },
  {
   "cell_type": "code",
   "execution_count": null,
   "metadata": {},
   "outputs": [],
   "source": []
  }
 ],
 "metadata": {
  "kernelspec": {
   "display_name": "Python 3",
   "language": "python",
   "name": "python3"
  },
  "language_info": {
   "codemirror_mode": {
    "name": "ipython",
    "version": 3
   },
   "file_extension": ".py",
   "mimetype": "text/x-python",
   "name": "python",
   "nbconvert_exporter": "python",
   "pygments_lexer": "ipython3",
   "version": "3.7.0"
  }
 },
 "nbformat": 4,
 "nbformat_minor": 2
}
