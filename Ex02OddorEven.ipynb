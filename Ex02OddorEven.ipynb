{
 "cells": [
  {
   "cell_type": "markdown",
   "metadata": {},
   "source": [
    "Question No 2\n",
    "\n",
    "Ask the user for a number. Depending on whether the number is even or odd, print out an appropriate message to the user. \n",
    "\n",
    "\n",
    "Extras:\n",
    "\n",
    "<ol><li>If the number is a multiple of 4, print out a different message.</li>\n",
    "\n",
    "<li>Ask the user for two numbers: one number to check (call it num) and one number to divide by (check). If check divides evenly into num, tell that to the user. If not, print a different appropriate message.</li></ol>"
   ]
  },
  {
   "cell_type": "code",
   "execution_count": 1,
   "metadata": {},
   "outputs": [
    {
     "name": "stdout",
     "output_type": "stream",
     "text": [
      "Please enter an integer number -87\n",
      "\u001b[41m The number -87.0 that you entered is an odd number\n",
      "\u001b[0m\n",
      "\n",
      "Second part of the question\n",
      "\n",
      "Please enter any number 8\n",
      "Please enter another number 9\n",
      "9.0 does not evenly divide 8.0.\n"
     ]
    }
   ],
   "source": [
    "from colorama  import Style, Fore, Back\n",
    "\n",
    "number = float(input('Please enter an integer number '))\n",
    "\n",
    "    \n",
    "if ((number%2) == 0) and ((number%4) == 0):\n",
    "    print(Back.BLUE, f'The number {number} that you entered is both even number and multiple of 4')\n",
    "    print(Style.RESET_ALL)\n",
    "    \n",
    "elif (number%2) == 0:\n",
    "    print(Back.GREEN, f'The number {number} you entered is an even number')\n",
    "    print(Style.RESET_ALL)\n",
    "\n",
    "else:\n",
    "    print(Back.RED, f'The number {number} that you entered is an odd number')\n",
    "    print(Style.RESET_ALL)\n",
    "        \n",
    "print('\\nSecond part of the question\\n')\n",
    "\n",
    "test_number = float(input('Please enter any number '))\n",
    "\n",
    "divisor_number = float(input('Please enter another number '))\n",
    "\n",
    "quotient = test_number/divisor_number\n",
    "\n",
    "if (test_number%divisor_number) == 0:\n",
    "    print(f'{divisor_number} evenly divides {test_number} into {quotient} equal parts.')\n",
    "    \n",
    "else:\n",
    "    print(f'{divisor_number} does not evenly divide {test_number}.')\n"
   ]
  },
  {
   "cell_type": "code",
   "execution_count": 8,
   "metadata": {},
   "outputs": [
    {
     "data": {
      "text/plain": [
       "2.0"
      ]
     },
     "execution_count": 8,
     "metadata": {},
     "output_type": "execute_result"
    }
   ],
   "source": [
    "5/2.5"
   ]
  },
  {
   "cell_type": "code",
   "execution_count": null,
   "metadata": {},
   "outputs": [],
   "source": []
  },
  {
   "cell_type": "code",
   "execution_count": null,
   "metadata": {},
   "outputs": [],
   "source": []
  }
 ],
 "metadata": {
  "kernelspec": {
   "display_name": "Python 3",
   "language": "python",
   "name": "python3"
  },
  "language_info": {
   "codemirror_mode": {
    "name": "ipython",
    "version": 3
   },
   "file_extension": ".py",
   "mimetype": "text/x-python",
   "name": "python",
   "nbconvert_exporter": "python",
   "pygments_lexer": "ipython3",
   "version": "3.7.0"
  }
 },
 "nbformat": 4,
 "nbformat_minor": 2
}
