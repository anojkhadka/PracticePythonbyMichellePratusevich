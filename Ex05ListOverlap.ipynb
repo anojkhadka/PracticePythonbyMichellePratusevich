{
 "cells": [
  {
   "cell_type": "markdown",
   "metadata": {},
   "source": [
    "<font size = 2, color = 'red'>\n",
    "\n",
    "Question:\n",
    "</font>\n",
    "\n",
    "<font size = 2>\n",
    "\n",
    "\n",
    "Take two lists, say for example these two:\n",
    "    \n",
    "A = [1, 2, 3, 8, 12, 66, 23, 10.4, 34.56, 'a', 'eugene']\n",
    "    \n",
    "B = [1, 2, 3, 4, 6, 7, 8, 9, 10, 11, 'crystal', 'a', 'samyak']\n",
    "  \n",
    "and write a program that returns a list that contains only the elements that are common between the lists (without duplicates). Make sure your program works on two lists of different sizes.\n",
    "\n",
    "</font>\n"
   ]
  },
  {
   "cell_type": "code",
   "execution_count": null,
   "metadata": {},
   "outputs": [],
   "source": []
  },
  {
   "cell_type": "markdown",
   "metadata": {},
   "source": [
    "<font size = 2, color = 'green'>Brief description of the solution:</font>\n",
    "\n",
    "Below I have presented two different solutions for the above problem. The main idea for the solution is that we try to tally each element of the one of the lists to all the element in another list and see if they match. If the element match we append it into a separate list. In doing so, element that repeat will appear again in our list. So, at the end we remove those duplication by using 'set()' python function."
   ]
  },
  {
   "cell_type": "code",
   "execution_count": null,
   "metadata": {},
   "outputs": [],
   "source": []
  },
  {
   "cell_type": "code",
   "execution_count": 6,
   "metadata": {},
   "outputs": [
    {
     "name": "stdout",
     "output_type": "stream",
     "text": [
      "['a', 1, 2, 3, 8]\n"
     ]
    }
   ],
   "source": [
    "'''  This  code works by utilizing the basic idea that we try to map each element of the longer list to every \n",
    "\n",
    "element of the shorter list. If we try opposite i.e. matching each element of shorter list to that of longer \n",
    "\n",
    "list we miss matching few elements due to the unequal lenght of the list. But we want our code to work \n",
    "\n",
    "irrespective of the lenght of the lists. 'if conditional statement' is used for this purpose - to pick longer\n",
    "\n",
    "list out of the two. And then we map each element using for loop. '''\n",
    "\n",
    "\n",
    "\n",
    "\n",
    "A = [1, 2, 3, 8, 12, 66, 23, 10.4, 34.56, 'a', 'eugene']\n",
    "    \n",
    "B = [1, 2, 3, 4, 6, 7, 8, 9, 10, 11, 'crystal', 'a', 'samyak']\n",
    "\n",
    "\n",
    "\n",
    "empty_list = []  # This empty list will later hold all the common elements including duplicates.\n",
    "\n",
    "\n",
    "if len(B)>len(A):\n",
    "    \n",
    "        for k in range(0, max(len(A), len(B))):\n",
    "    \n",
    "            if B[k] in A:\n",
    "                empty_list.append(B[k])\n",
    "\n",
    "    \n",
    "else:\n",
    "        for k in range(0, max(len(A), len(B))):\n",
    "    \n",
    "            if A[k] in B:\n",
    "                empty_list.append(A[k])\n",
    "\n",
    "                \n",
    "# set() function in python is used to remove all the duplicate elements in a list.\n",
    "                \n",
    "print(list(set(empty_list)))\n",
    "\n"
   ]
  },
  {
   "cell_type": "code",
   "execution_count": null,
   "metadata": {},
   "outputs": [],
   "source": []
  },
  {
   "cell_type": "code",
   "execution_count": 10,
   "metadata": {},
   "outputs": [
    {
     "name": "stdout",
     "output_type": "stream",
     "text": [
      "['a', 1, 2, 3, 34.56, 8, 'samyak', 'blake']\n"
     ]
    }
   ],
   "source": [
    "'''   \n",
    "\n",
    "This code works slightly differently than the previous one. The idea behind is that we first separate longer \n",
    "\n",
    "and shorter lists. Once we can identify the shorter and longer list we then map each element of the shorter list\n",
    "\n",
    "to all the elements of the longer list and weed out the common one to a separate list. This is why we have\n",
    "\n",
    "defined two functions to identify the longer and shorter list out of the two given lists. Trade-off of this is \n",
    "\n",
    "that we can use single for loop. \n",
    "\n",
    "'''\n",
    "\n",
    "\n",
    "def longer(list1, list2):\n",
    "    \n",
    "    if len(list1) == max(len(list1), len(list2)):\n",
    "        \n",
    "        return list1\n",
    "    \n",
    "    else:\n",
    "        \n",
    "        return list2\n",
    "\n",
    "    \n",
    "def shorter(list1, list2):\n",
    "    \n",
    "        if len(list1) == min(len(list1), len(list2)):\n",
    "            \n",
    "            return list1\n",
    "        \n",
    "        else:\n",
    "            \n",
    "            return list2\n",
    "\n",
    "\n",
    "A = [1, 2, 3, 8, 12, 'samyak', 66, 23, 10.4, 'blake', 34.56, 'a', 33.4, 'falcon', 22, 0.98, -34, 'apple']\n",
    "    \n",
    "B = [1, 2, 3, 4, 3, 6, 7, 8, 9, 10, 11, 'blake', 'a', 34.56, 'samyak',34.56]\n",
    "\n",
    "\n",
    "empty_list = []\n",
    "\n",
    "\n",
    "for k in range(0, len(shorter(A,B))):\n",
    "    \n",
    "    if shorter(A,B)[k] in longer(A, B):\n",
    "           \n",
    "        empty_list.append(shorter(A, B)[k])\n",
    "        \n",
    "\n",
    "print(list(set(empty_list)))\n",
    "\n"
   ]
  },
  {
   "cell_type": "code",
   "execution_count": null,
   "metadata": {},
   "outputs": [],
   "source": []
  }
 ],
 "metadata": {
  "kernelspec": {
   "display_name": "Python 3",
   "language": "python",
   "name": "python3"
  },
  "language_info": {
   "codemirror_mode": {
    "name": "ipython",
    "version": 3
   },
   "file_extension": ".py",
   "mimetype": "text/x-python",
   "name": "python",
   "nbconvert_exporter": "python",
   "pygments_lexer": "ipython3",
   "version": "3.7.0"
  }
 },
 "nbformat": 4,
 "nbformat_minor": 2
}
