{
 "cells": [
  {
   "cell_type": "markdown",
   "metadata": {},
   "source": [
    "<font size = 2 color = red>QUESTION </font>\n",
    "<br><br>\n",
    "<font size = 2> \n",
    "This exercise is Part 1 of 4 of the Tic Tac Toe exercise series. The other exercises are: Part 2, Part 3, and Part 4.\n",
    "\n",
    "Time for some fake graphics! Let’s say we want to draw game boards that look like this:\n",
    "\n",
    "            --- --- ---\n",
    "           |   |   |   |\n",
    "            --- --- --- \n",
    "           |   |   |   |\n",
    "            --- --- --- \n",
    "           |   |   |   |\n",
    "            --- --- --- \n",
    "            \n",
    "This one is 3x3 (like in tic tac toe). Obviously, they come in many other sizes (8x8 for chess, 19x19 for Go, and many more).\n",
    "\n",
    "</font>\n",
    "<br><br>\n",
    "\n",
    "<font size = 2 color = green>Brief Description of code</font>\n",
    "<br><br>\n",
    "<font>\n",
    "For this problem, I have tried to create a board by using the most fundamental shape element and expand it to the size of the board we require. Two fundamental shape element are '---' and '|'. These two shape element will be expanded using for loop as per the size of the board we want. I have written a function named 'game_board_grid' that will create the board of intended size and this function can is called later to show how board of different size can be created.\n",
    "\n",
    "</font>\n"
   ]
  },
  {
   "cell_type": "code",
   "execution_count": 9,
   "metadata": {},
   "outputs": [],
   "source": [
    "'''This function does the job of printing the square board grid for the size we want. It takes single integer \n",
    "value as an input and this integer represents the square size of board we want to get printed. For instance, 4 \n",
    "represents 4 by 4 size board. It will print the board grid as an output.'''\n",
    "\n",
    "\n",
    "def game_board_grid(x):\n",
    "    h_unit = '---'                         # fundamental horizontal unit of grid\n",
    "    v_unit = '|'                           # fundamental vertical unit of grid\n",
    "\n",
    "\n",
    "    \n",
    "    # This is the head loop that will cause program to iterate to the number of times of the board size.\n",
    "    \n",
    "    for i in range(0, x+1):                \n",
    "        for n in range(0, x):              # This loop brand prints horizontal structure\n",
    "            if n == 0:                     # Inserts a single space in front of each horizontal grid\n",
    "                print(' ', end = '')\n",
    "            print(h_unit, end = ' ')\n",
    "        print()                            # This print statement takes to next line after horizontal printing. \n",
    "        if i == x:                         # This 'if conditional' is used to stop loop after the last vertical\n",
    "            break                          # grid structure is printed.\n",
    "            \n",
    "        for m in range(0,x+1):             # This branch of loop prints vertical structure in the grid.\n",
    "            print(v_unit, end = '')\n",
    "            print('   ', end= '')\n",
    "        print()                            # # This print statement takes to next line after vertical printing."
   ]
  },
  {
   "cell_type": "code",
   "execution_count": 10,
   "metadata": {},
   "outputs": [
    {
     "name": "stdout",
     "output_type": "stream",
     "text": [
      "\n",
      "Please enter number of the size for the board game you want to choose. \n",
      "\n",
      "For example:\n",
      "\n",
      "For 3 by 3 size board as in tic tac toe enter 3. \n",
      "\n",
      "For 8 by 8 size board as in chess enter 8.\n",
      "\n",
      "1\n",
      " --- \n",
      "|   |   \n",
      " --- \n"
     ]
    }
   ],
   "source": [
    "board_size = int(input('\\nPlease enter number of the size for the board game you want to choose. \\n\\nFor example:\\n\\n'\n",
    "                   \n",
    "                   'For 3 by 3 size board as in tic tac toe enter 3. \\n\\nFor 8 by 8 size board as in chess enter 8.\\n\\n'))\n",
    "\n",
    "game_board_grid(board_size)"
   ]
  },
  {
   "cell_type": "code",
   "execution_count": null,
   "metadata": {},
   "outputs": [],
   "source": []
  },
  {
   "cell_type": "code",
   "execution_count": 11,
   "metadata": {},
   "outputs": [
    {
     "name": "stdout",
     "output_type": "stream",
     "text": [
      "\n",
      "Please enter number of the size for the board game you want to choose. \n",
      "\n",
      "For example:\n",
      "\n",
      "For 3 by 3 size board as in tic tac toe enter 3. \n",
      "\n",
      "For 8 by 8 size board as in chess enter 8.\n",
      "\n",
      "4\n",
      " --- --- --- --- \n",
      "|   |   |   |   |   \n",
      " --- --- --- --- \n",
      "|   |   |   |   |   \n",
      " --- --- --- --- \n",
      "|   |   |   |   |   \n",
      " --- --- --- --- \n",
      "|   |   |   |   |   \n",
      " --- --- --- --- \n"
     ]
    }
   ],
   "source": [
    "board_size = int(input('\\nPlease enter number of the size for the board game you want to choose. \\n\\nFor example:\\n\\n'\n",
    "                   \n",
    "                   'For 3 by 3 size board as in tic tac toe enter 3. \\n\\nFor 8 by 8 size board as in chess enter 8.\\n\\n'))\n",
    "\n",
    "game_board_grid(board_size)"
   ]
  },
  {
   "cell_type": "code",
   "execution_count": null,
   "metadata": {},
   "outputs": [],
   "source": []
  },
  {
   "cell_type": "code",
   "execution_count": 12,
   "metadata": {},
   "outputs": [
    {
     "name": "stdout",
     "output_type": "stream",
     "text": [
      "\n",
      "Please enter number of the size for the board game you want to choose. \n",
      "\n",
      "For example:\n",
      "\n",
      "For 3 by 3 size board as in tic tac toe enter 3. \n",
      "\n",
      "For 8 by 8 size board as in chess enter 8.\n",
      "\n",
      "25\n",
      " --- --- --- --- --- --- --- --- --- --- --- --- --- --- --- --- --- --- --- --- --- --- --- --- --- \n",
      "|   |   |   |   |   |   |   |   |   |   |   |   |   |   |   |   |   |   |   |   |   |   |   |   |   |   \n",
      " --- --- --- --- --- --- --- --- --- --- --- --- --- --- --- --- --- --- --- --- --- --- --- --- --- \n",
      "|   |   |   |   |   |   |   |   |   |   |   |   |   |   |   |   |   |   |   |   |   |   |   |   |   |   \n",
      " --- --- --- --- --- --- --- --- --- --- --- --- --- --- --- --- --- --- --- --- --- --- --- --- --- \n",
      "|   |   |   |   |   |   |   |   |   |   |   |   |   |   |   |   |   |   |   |   |   |   |   |   |   |   \n",
      " --- --- --- --- --- --- --- --- --- --- --- --- --- --- --- --- --- --- --- --- --- --- --- --- --- \n",
      "|   |   |   |   |   |   |   |   |   |   |   |   |   |   |   |   |   |   |   |   |   |   |   |   |   |   \n",
      " --- --- --- --- --- --- --- --- --- --- --- --- --- --- --- --- --- --- --- --- --- --- --- --- --- \n",
      "|   |   |   |   |   |   |   |   |   |   |   |   |   |   |   |   |   |   |   |   |   |   |   |   |   |   \n",
      " --- --- --- --- --- --- --- --- --- --- --- --- --- --- --- --- --- --- --- --- --- --- --- --- --- \n",
      "|   |   |   |   |   |   |   |   |   |   |   |   |   |   |   |   |   |   |   |   |   |   |   |   |   |   \n",
      " --- --- --- --- --- --- --- --- --- --- --- --- --- --- --- --- --- --- --- --- --- --- --- --- --- \n",
      "|   |   |   |   |   |   |   |   |   |   |   |   |   |   |   |   |   |   |   |   |   |   |   |   |   |   \n",
      " --- --- --- --- --- --- --- --- --- --- --- --- --- --- --- --- --- --- --- --- --- --- --- --- --- \n",
      "|   |   |   |   |   |   |   |   |   |   |   |   |   |   |   |   |   |   |   |   |   |   |   |   |   |   \n",
      " --- --- --- --- --- --- --- --- --- --- --- --- --- --- --- --- --- --- --- --- --- --- --- --- --- \n",
      "|   |   |   |   |   |   |   |   |   |   |   |   |   |   |   |   |   |   |   |   |   |   |   |   |   |   \n",
      " --- --- --- --- --- --- --- --- --- --- --- --- --- --- --- --- --- --- --- --- --- --- --- --- --- \n",
      "|   |   |   |   |   |   |   |   |   |   |   |   |   |   |   |   |   |   |   |   |   |   |   |   |   |   \n",
      " --- --- --- --- --- --- --- --- --- --- --- --- --- --- --- --- --- --- --- --- --- --- --- --- --- \n",
      "|   |   |   |   |   |   |   |   |   |   |   |   |   |   |   |   |   |   |   |   |   |   |   |   |   |   \n",
      " --- --- --- --- --- --- --- --- --- --- --- --- --- --- --- --- --- --- --- --- --- --- --- --- --- \n",
      "|   |   |   |   |   |   |   |   |   |   |   |   |   |   |   |   |   |   |   |   |   |   |   |   |   |   \n",
      " --- --- --- --- --- --- --- --- --- --- --- --- --- --- --- --- --- --- --- --- --- --- --- --- --- \n",
      "|   |   |   |   |   |   |   |   |   |   |   |   |   |   |   |   |   |   |   |   |   |   |   |   |   |   \n",
      " --- --- --- --- --- --- --- --- --- --- --- --- --- --- --- --- --- --- --- --- --- --- --- --- --- \n",
      "|   |   |   |   |   |   |   |   |   |   |   |   |   |   |   |   |   |   |   |   |   |   |   |   |   |   \n",
      " --- --- --- --- --- --- --- --- --- --- --- --- --- --- --- --- --- --- --- --- --- --- --- --- --- \n",
      "|   |   |   |   |   |   |   |   |   |   |   |   |   |   |   |   |   |   |   |   |   |   |   |   |   |   \n",
      " --- --- --- --- --- --- --- --- --- --- --- --- --- --- --- --- --- --- --- --- --- --- --- --- --- \n",
      "|   |   |   |   |   |   |   |   |   |   |   |   |   |   |   |   |   |   |   |   |   |   |   |   |   |   \n",
      " --- --- --- --- --- --- --- --- --- --- --- --- --- --- --- --- --- --- --- --- --- --- --- --- --- \n",
      "|   |   |   |   |   |   |   |   |   |   |   |   |   |   |   |   |   |   |   |   |   |   |   |   |   |   \n",
      " --- --- --- --- --- --- --- --- --- --- --- --- --- --- --- --- --- --- --- --- --- --- --- --- --- \n",
      "|   |   |   |   |   |   |   |   |   |   |   |   |   |   |   |   |   |   |   |   |   |   |   |   |   |   \n",
      " --- --- --- --- --- --- --- --- --- --- --- --- --- --- --- --- --- --- --- --- --- --- --- --- --- \n",
      "|   |   |   |   |   |   |   |   |   |   |   |   |   |   |   |   |   |   |   |   |   |   |   |   |   |   \n",
      " --- --- --- --- --- --- --- --- --- --- --- --- --- --- --- --- --- --- --- --- --- --- --- --- --- \n",
      "|   |   |   |   |   |   |   |   |   |   |   |   |   |   |   |   |   |   |   |   |   |   |   |   |   |   \n",
      " --- --- --- --- --- --- --- --- --- --- --- --- --- --- --- --- --- --- --- --- --- --- --- --- --- \n",
      "|   |   |   |   |   |   |   |   |   |   |   |   |   |   |   |   |   |   |   |   |   |   |   |   |   |   \n",
      " --- --- --- --- --- --- --- --- --- --- --- --- --- --- --- --- --- --- --- --- --- --- --- --- --- \n",
      "|   |   |   |   |   |   |   |   |   |   |   |   |   |   |   |   |   |   |   |   |   |   |   |   |   |   \n",
      " --- --- --- --- --- --- --- --- --- --- --- --- --- --- --- --- --- --- --- --- --- --- --- --- --- \n",
      "|   |   |   |   |   |   |   |   |   |   |   |   |   |   |   |   |   |   |   |   |   |   |   |   |   |   \n",
      " --- --- --- --- --- --- --- --- --- --- --- --- --- --- --- --- --- --- --- --- --- --- --- --- --- \n",
      "|   |   |   |   |   |   |   |   |   |   |   |   |   |   |   |   |   |   |   |   |   |   |   |   |   |   \n",
      " --- --- --- --- --- --- --- --- --- --- --- --- --- --- --- --- --- --- --- --- --- --- --- --- --- \n",
      "|   |   |   |   |   |   |   |   |   |   |   |   |   |   |   |   |   |   |   |   |   |   |   |   |   |   \n",
      " --- --- --- --- --- --- --- --- --- --- --- --- --- --- --- --- --- --- --- --- --- --- --- --- --- \n"
     ]
    }
   ],
   "source": [
    "board_size = int(input('\\nPlease enter number of the size for the board game you want to choose. \\n\\nFor example:\\n\\n'\n",
    "                   \n",
    "                   'For 3 by 3 size board as in tic tac toe enter 3. \\n\\nFor 8 by 8 size board as in chess enter 8.\\n\\n'))\n",
    "\n",
    "game_board_grid(board_size)"
   ]
  },
  {
   "cell_type": "code",
   "execution_count": null,
   "metadata": {},
   "outputs": [],
   "source": []
  }
 ],
 "metadata": {
  "kernelspec": {
   "display_name": "Python 3",
   "language": "python",
   "name": "python3"
  },
  "language_info": {
   "codemirror_mode": {
    "name": "ipython",
    "version": 3
   },
   "file_extension": ".py",
   "mimetype": "text/x-python",
   "name": "python",
   "nbconvert_exporter": "python",
   "pygments_lexer": "ipython3",
   "version": "3.7.0"
  }
 },
 "nbformat": 4,
 "nbformat_minor": 2
}
