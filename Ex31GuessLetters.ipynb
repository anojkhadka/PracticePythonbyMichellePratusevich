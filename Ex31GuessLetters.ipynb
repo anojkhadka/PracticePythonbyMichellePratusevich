{
 "cells": [
  {
   "cell_type": "markdown",
   "metadata": {},
   "source": [
    "<font size = 2 color = red>QUESTION </font>\n",
    "<br><br>\n",
    "<font size = 2> \n",
    "\n",
    "Let’s continue building Hangman. In the game of Hangman, a clue word is given by the program that the player has to guess, letter by letter. The player guesses one letter at a time until the entire word has been guessed. (In the actual game, the player can only guess 6 letters incorrectly before losing).\n",
    "<br><br>\n",
    "Let’s say the word the player has to guess is “EVAPORATE”. For this exercise, write the logic that asks a player to guess a letter and displays letters in the clue word that were guessed correctly. For now, let the player guess an infinite number of times until they get the entire word. As a bonus, keep track of the letters the player guessed and display a different message if the player tries to guess that letter again. Remember to stop the game when all the letters have been guessed correctly! Don’t worry about choosing a word randomly or keeping track of the number of guesses the player has remaining - we will deal with those in a future exercise.\n",
    "\n",
    "An example interaction can look like this:\n",
    "\n",
    "\\>>> Welcome to Hangman!\n",
    "\\ -------------------------\n",
    "\\>>> Guess your letter: S \n",
    "\n",
    "<br>\n",
    "Incorrect!\n",
    "<br>\n",
    "\n",
    "\\>>> Guess your letter: E\n",
    "<br>\n",
    "\n",
    "E _ _ _ _ _ _E\n",
    "\n",
    "<br>\n",
    "\n",
    "...\n",
    "And so on, until the player gets the word.\n",
    "\n",
    "</font>\n",
    "<br><br>\n",
    "\n",
    "<font size = 2 color = green>Brief Description of code</font>\n",
    "<br><br>\n",
    "\n",
    "Basic working principle of this code is that it will first pick a random word from the file. Then we create a list that will contain equal number of elements as the number of letters in the word that we pick. As right guess of letter in the word is made they will be filled in the corresponding position of the list. Any wrong guess will be discarded simply by displaying warning message. A separate list for rightly guessed letter will be made. We keep track of the number of letters remaining to be guessed correctly by subtracting the length of the \n",
    "list of rightly guessed letters from the list that contains actual number of letters from the word. while loop is initiated and will keep running until all the letters in the word is guessed correctly."
   ]
  },
  {
   "cell_type": "code",
   "execution_count": 2,
   "metadata": {},
   "outputs": [],
   "source": [
    "import random\n",
    "from colorama import Back, Style     # Using colorama module to get colored messages"
   ]
  },
  {
   "cell_type": "code",
   "execution_count": 3,
   "metadata": {},
   "outputs": [],
   "source": [
    "def word_pick():\n",
    "    \n",
    "    ''' This function does not take any input argument but returns a word. Simply call this function and will\n",
    "        return a random word'''\n",
    "    \n",
    "    with open('sowpods.txt', 'r+') as read_file:        # Opening a file \n",
    "        \n",
    "        number = random.randint(0, 267750)              # Using random module to choose a random \n",
    "                                                        \n",
    "        word = read_file.read().split('\\n')             # Will create a list of all words in the file\n",
    "\n",
    "    return word[number]                                 # Returns word from the list at index position 'number'\n"
   ]
  },
  {
   "cell_type": "code",
   "execution_count": 9,
   "metadata": {},
   "outputs": [],
   "source": [
    "# This calling of function above is done to choose a random word from the file. This will be the word \n",
    "# that will be later used to make guess.\n",
    "\n",
    "pick = word_pick()  \n",
    "                    "
   ]
  },
  {
   "cell_type": "code",
   "execution_count": null,
   "metadata": {},
   "outputs": [],
   "source": []
  },
  {
   "cell_type": "code",
   "execution_count": 5,
   "metadata": {},
   "outputs": [],
   "source": [
    "def list_creation():\n",
    "    '''This function will return two lists. One list will have empty element equal in number to the letters in\n",
    "       the word pick from function above. Another will be an empty list.'''\n",
    "    \n",
    "    empty_list = []\n",
    "    \n",
    "    counter_list = []\n",
    "\n",
    "    for m in range(0, len(pick)):\n",
    "        empty_list.append('  ')\n",
    "\n",
    "    return empty_list, counter_list"
   ]
  },
  {
   "cell_type": "code",
   "execution_count": null,
   "metadata": {},
   "outputs": [],
   "source": []
  },
  {
   "cell_type": "code",
   "execution_count": 6,
   "metadata": {},
   "outputs": [],
   "source": [
    "# These two lists are created by calling the function above. They will keep track of the letters entered.\n",
    "\n",
    "game_status_list = list_creation()[0]\n",
    "guessed_letter_list = list_creation()[1]"
   ]
  },
  {
   "cell_type": "code",
   "execution_count": 7,
   "metadata": {
    "scrolled": true
   },
   "outputs": [],
   "source": [
    "def Hangman():\n",
    "    \n",
    "    while True: # Initiating a loop that will only terminate if the word is guessed correctly.\n",
    "        \n",
    "               \n",
    "        select_letter = input('Please guess a letter\\n\\n')\n",
    "\n",
    "        letter = str(select_letter.upper())\n",
    "\n",
    "        # This section of conditional statement below will warn user if letter already guessed correctly is\n",
    "        # repeated. It makes use of method called recursive function.\n",
    "        \n",
    "        if letter in guessed_letter_list:\n",
    "            print(Back.RED,\"Don't repeat your correct guess!\\n\")\n",
    "            print(Style.RESET_ALL)\n",
    "            return Hangman()\n",
    "        \n",
    "        # This section of conditional statement below will start keeping track of the correctly guessed letters\n",
    "        # and display the status of word showing all the correctly guessed letters and empty spaces yet to be \n",
    "        # guessed.\n",
    "        \n",
    "        if letter in pick:\n",
    "            for i in range(0, len(pick)):\n",
    "\n",
    "                if letter == pick[i]:\n",
    "                    game_status_list.insert(i, letter)\n",
    "                    guessed_letter_list.append(letter)\n",
    "                    if game_status_list[i+1] == '  ':\n",
    "                        game_status_list.pop(i+1)\n",
    "            print('\\n',game_status_list,'\\n')\n",
    "        else:                         \n",
    "            print(Back.RED,'Incorrect selection! Try again!\\n')\n",
    "            print(Style.RESET_ALL)\n",
    "            \n",
    "        # Number of letters remaining to be guessed correctly will be shown\n",
    "        print(Back.GREEN, f'({len(game_status_list) - len(guessed_letter_list)} more letters to complete the game.')\n",
    "        print(Style.RESET_ALL)\n",
    "\n",
    "        # This conditional statement section below will map all the correctly guessed letter and informs user.\n",
    "        if len(guessed_letter_list) == len(game_status_list):\n",
    "            print(Back.BLUE,'GAME OVER')\n",
    "            print(Style.RESET_ALL)\n",
    "            guessed_letter_list.clear()\n",
    "            break"
   ]
  },
  {
   "cell_type": "code",
   "execution_count": 8,
   "metadata": {},
   "outputs": [
    {
     "name": "stdout",
     "output_type": "stream",
     "text": [
      "Please guess a letter\n",
      "\n",
      "j\n",
      "\n",
      " ['  ', '  ', '  ', 'J', '  ', '  ', '  '] \n",
      "\n",
      "\u001b[42m (6 more letters to complete the game.\n",
      "\u001b[0m\n",
      "Please guess a letter\n",
      "\n",
      "i\n",
      "\u001b[41m Incorrect selection! Try again!\n",
      "\n",
      "\u001b[0m\n",
      "\u001b[42m (6 more letters to complete the game.\n",
      "\u001b[0m\n",
      "Please guess a letter\n",
      "\n",
      "v\n",
      "\n",
      " ['V', '  ', '  ', 'J', '  ', '  ', '  '] \n",
      "\n",
      "\u001b[42m (5 more letters to complete the game.\n",
      "\u001b[0m\n",
      "Please guess a letter\n",
      "\n",
      "e\n",
      "\n",
      " ['V', 'E', 'E', 'J', '  ', '  ', '  '] \n",
      "\n",
      "\u001b[42m (3 more letters to complete the game.\n",
      "\u001b[0m\n",
      "Please guess a letter\n",
      "\n",
      "a\n",
      "\n",
      " ['V', 'E', 'E', 'J', 'A', '  ', '  '] \n",
      "\n",
      "\u001b[42m (2 more letters to complete the game.\n",
      "\u001b[0m\n",
      "Please guess a letter\n",
      "\n",
      "s\n",
      "\n",
      " ['V', 'E', 'E', 'J', 'A', '  ', 'S'] \n",
      "\n",
      "\u001b[42m (1 more letters to complete the game.\n",
      "\u001b[0m\n",
      "Please guess a letter\n",
      "\n",
      "y\n",
      "\n",
      " ['V', 'E', 'E', 'J', 'A', 'Y', 'S'] \n",
      "\n",
      "\u001b[42m (0 more letters to complete the game.\n",
      "\u001b[0m\n",
      "\u001b[44m GAME OVER\n",
      "\u001b[0m\n"
     ]
    }
   ],
   "source": [
    "Hangman()"
   ]
  },
  {
   "cell_type": "code",
   "execution_count": null,
   "metadata": {},
   "outputs": [],
   "source": []
  }
 ],
 "metadata": {
  "kernelspec": {
   "display_name": "Python 3",
   "language": "python",
   "name": "python3"
  },
  "language_info": {
   "codemirror_mode": {
    "name": "ipython",
    "version": 3
   },
   "file_extension": ".py",
   "mimetype": "text/x-python",
   "name": "python",
   "nbconvert_exporter": "python",
   "pygments_lexer": "ipython3",
   "version": "3.7.0"
  }
 },
 "nbformat": 4,
 "nbformat_minor": 2
}
