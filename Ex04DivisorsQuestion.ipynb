{
 "cells": [
  {
   "cell_type": "markdown",
   "metadata": {},
   "source": [
    "<font size = 2>\n",
    "Create a program that asks the user for a number and then prints out a list of all the divisors of that number.\n",
    "</font>"
   ]
  },
  {
   "cell_type": "markdown",
   "metadata": {},
   "source": [
    "<font size = 1, color = green>Brief Description of the code</font>\n",
    "<div align = 'justify'>\n",
    "This code will list out all the divisors for a given integer input by user. This code will take only positive integer greater than 0 as an input from the user. Error handling has been done to warn user to re-enter number, in case, user inputs entry other than that directed. Code from line number 6 to 12 will send warning message to re-enter number if 0 or negative integer is entered by the user. Error will be caught up as 'ValueError' if user enters decimal numbers or any other characters as an input. \n",
    "    \n",
    "</div>"
   ]
  },
  {
   "cell_type": "code",
   "execution_count": 48,
   "metadata": {},
   "outputs": [
    {
     "name": "stdout",
     "output_type": "stream",
     "text": [
      "Please enter any positive integer number -09\n",
      "Please enter any positive integer number  0\n",
      "Please enter any positive integer number  9.89\n",
      "\n",
      " Oops! Invalid Entry \n",
      "\n",
      "Please enter any positive integer number ki9\n",
      "\n",
      " Oops! Invalid Entry \n",
      "\n",
      "Please enter any positive integer number 789\n",
      "\n",
      " Following are the divisors of 789 \n",
      "\n",
      "[1, 3, 263, 789]\n"
     ]
    }
   ],
   "source": [
    "while True:\n",
    "    \n",
    "    try:\n",
    "        test_number = int(input('Please enter any positive integer number '))\n",
    "        \n",
    "        while test_number == 0:\n",
    "            \n",
    "            test_number = int(input('Please enter any positive integer number  '))\n",
    "                   \n",
    "        while abs(test_number) == -1*test_number:\n",
    "            \n",
    "            test_number = int(input('Please enter any positive integer number  '))\n",
    "                        \n",
    "                          \n",
    "        def Divisor(test_number):\n",
    "            \n",
    "            Divisor_list = []\n",
    "            \n",
    "            for k in range(1, test_number+1):\n",
    "    \n",
    "                if test_number%k == 0:\n",
    "            \n",
    "                    Divisor_list.append(k)\n",
    "                \n",
    "            print(f'\\n Following are the divisors of {test_number} \\n')\n",
    "            \n",
    "            print(Divisor_list)\n",
    "            \n",
    "        Divisor(test_number)\n",
    "        \n",
    "        break\n",
    "        \n",
    "    except ValueError:\n",
    "        \n",
    "        print('\\n Oops! Invalid Entry \\n')"
   ]
  },
  {
   "cell_type": "code",
   "execution_count": null,
   "metadata": {},
   "outputs": [],
   "source": []
  }
 ],
 "metadata": {
  "kernelspec": {
   "display_name": "Python 3",
   "language": "python",
   "name": "python3"
  },
  "language_info": {
   "codemirror_mode": {
    "name": "ipython",
    "version": 3
   },
   "file_extension": ".py",
   "mimetype": "text/x-python",
   "name": "python",
   "nbconvert_exporter": "python",
   "pygments_lexer": "ipython3",
   "version": "3.7.0"
  }
 },
 "nbformat": 4,
 "nbformat_minor": 2
}
